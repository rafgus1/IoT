{
  "nbformat": 4,
  "nbformat_minor": 0,
  "metadata": {
    "colab": {
      "name": "Zolw.ipynb",
      "provenance": [],
      "include_colab_link": true
    },
    "kernelspec": {
      "name": "python3",
      "display_name": "Python 3"
    }
  },
  "cells": [
    {
      "cell_type": "markdown",
      "metadata": {
        "id": "view-in-github",
        "colab_type": "text"
      },
      "source": [
        "Kliknij aby rozpocząć -> <a href=\"https://colab.research.google.com/github/rroszczyk/Python/blob/master/Zolw.ipynb\" target=\"_parent\"><img src=\"https://colab.research.google.com/assets/colab-badge.svg\" alt=\"Open In Colab\"/></a>"
      ]
    },
    {
      "cell_type": "markdown",
      "metadata": {
        "id": "UWLvBcAypPJS",
        "colab_type": "text"
      },
      "source": [
        "### Uwaga\n",
        "Przed uruchomieniem właściwej części programu należy zainstalować bilbiotekę obsługującą żółwia - do tego celu służy poniższa linijka kodu."
      ]
    },
    {
      "cell_type": "code",
      "metadata": {
        "id": "n0tPoxjVuHat",
        "colab_type": "code",
        "colab": {}
      },
      "source": [
        "!pip3 install ColabTurtle"
      ],
      "execution_count": 0,
      "outputs": []
    },
    {
      "cell_type": "markdown",
      "metadata": {
        "id": "3y1C_4pWpb_i",
        "colab_type": "text"
      },
      "source": [
        "Przed rozpoczęciem pracy z żółwiem należy go zainicjalizować we własnym kodzie - instrukcja ***initializeTurtle*** bez tego żółw nie będzie działał !!!"
      ]
    },
    {
      "cell_type": "code",
      "metadata": {
        "id": "1ZW2j7avuNyj",
        "colab_type": "code",
        "colab": {}
      },
      "source": [
        "from ColabTurtle.Turtle import *\n",
        " \n",
        "initializeTurtle()\n",
        "\n",
        "color('red')\n",
        "n = 0;\n",
        "while True:\n",
        "    forward(200)\n",
        "    left(170)\n",
        "    if n > 100:\n",
        "        break\n",
        "    n += 1\n",
        "done()"
      ],
      "execution_count": 0,
      "outputs": []
    },
    {
      "cell_type": "markdown",
      "metadata": {
        "id": "UVU83gcVqX_4",
        "colab_type": "text"
      },
      "source": [
        "### Co żółw potrafi?\n",
        "- forward(n) - idzie naprzód o n jednostek\n",
        "- backward(n) - idzie wstecz p n jednostek\n",
        "- right(st) - skręca w prawo o st stopni\n",
        "- left(st) - skręca w lewo o st stopni\n",
        "- penup() - przerywa pisanie - podnosi pióro\n",
        "- pendown() - rozpoczyna pisanie - opuszcza pióro\n",
        "- speed(t) - zmienia szybkość rysowania\n",
        "- setx(x) - przesuwa pióro w osi X do położenia x\n",
        "- sety(y) - przesuwa pióro w osi Y do położenia y\n",
        "- goto(x, y) - przesuwa pióro do położenia x, y\n",
        "- showturtle() - wyświetla żółwia\n",
        "- hideturtle() - ukrywa żółwia\n",
        "- bgcolor(color) - ustawia kolor tła\n",
        "- color(color) - ustawia kolor pióra\n",
        "- width(px) - zmienia szerokość pióra w pikselach"
      ]
    }
  ]
}
