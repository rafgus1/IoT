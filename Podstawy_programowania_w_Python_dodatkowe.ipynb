{
  "nbformat": 4,
  "nbformat_minor": 0,
  "metadata": {
    "kernelspec": {
      "display_name": "Python 3",
      "language": "python",
      "name": "python3"
    },
    "language_info": {
      "codemirror_mode": {
        "name": "ipython",
        "version": 3
      },
      "file_extension": ".py",
      "mimetype": "text/x-python",
      "name": "python",
      "nbconvert_exporter": "python",
      "pygments_lexer": "ipython3",
      "version": "3.6.8"
    },
    "colab": {
      "name": "Podstawy programowania w Python (część rozszerzona).ipynb",
      "provenance": [],
      "include_colab_link": true
    }
  },
  "cells": [
    {
      "cell_type": "markdown",
      "metadata": {
        "id": "view-in-github",
        "colab_type": "text"
      },
      "source": [
        "<a href=\"https://colab.research.google.com/github/rafgus1/IoT/blob/ZSE/Podstawy_programowania_w_Python_dodatkowe.ipynb\" target=\"_parent\"><img src=\"https://colab.research.google.com/assets/colab-badge.svg\" alt=\"Open In Colab\"/></a>"
      ]
    },
    {
      "cell_type": "markdown",
      "metadata": {
        "id": "qEesDjMzQ8VQ",
        "colab_type": "text"
      },
      "source": [
        "# Podstawy programowania w Python część II rozszerzona.\n",
        "\n",
        "W tej części przedstawimy elementy częściej i rzadziej stosowane w Pythonie - które obejmują już rozszerzoną część do wstępu do programowania w Python.\n",
        "\n",
        "\n",
        "# Szybka inicjalizacja kolekcji\n",
        "\n",
        "W Python występuje pewna często wykorzystywana metoda na szybkie inicjalizowanie kolekcji poprzez przetwarzanie innych kolekcji. Łączy ona w sobie symbole listy oraz pętle\n",
        "\n"
      ]
    },
    {
      "cell_type": "code",
      "metadata": {
        "id": "E1dsG2jlQ8VT",
        "colab_type": "code",
        "colab": {
          "base_uri": "https://localhost:8080/",
          "height": 34
        },
        "outputId": "6c2f0bf9-020d-4d97-9f24-39238322d408"
      },
      "source": [
        "kolekcja = [i for i in range(0,10,2)]\n",
        "print(kolekcja)"
      ],
      "execution_count": 1,
      "outputs": [
        {
          "output_type": "stream",
          "text": [
            "[0, 2, 4, 6, 8]\n"
          ],
          "name": "stdout"
        }
      ]
    },
    {
      "cell_type": "markdown",
      "metadata": {
        "id": "2DwR3A-HQ8Va",
        "colab_type": "text"
      },
      "source": [
        "Można dodać pewne przekształcenia\n"
      ]
    },
    {
      "cell_type": "code",
      "metadata": {
        "id": "DfNI0lHeQ8Vb",
        "colab_type": "code",
        "colab": {
          "base_uri": "https://localhost:8080/",
          "height": 34
        },
        "outputId": "9cdb1b5f-0275-44f5-89a0-f8e9b162e9bf"
      },
      "source": [
        "kolekcja = [i*i+2 for i in range(0,10,2)]\n",
        "print(kolekcja)"
      ],
      "execution_count": 2,
      "outputs": [
        {
          "output_type": "stream",
          "text": [
            "[2, 6, 18, 38, 66]\n"
          ],
          "name": "stdout"
        }
      ]
    },
    {
      "cell_type": "markdown",
      "metadata": {
        "id": "9dNe1otCQ8Ve",
        "colab_type": "text"
      },
      "source": [
        "Tak samo daje się zrobić poprzez przekształcanie innych kolekcji\n"
      ]
    },
    {
      "cell_type": "code",
      "metadata": {
        "id": "HCo4UvOWQ8Vf",
        "colab_type": "code",
        "colab": {
          "base_uri": "https://localhost:8080/",
          "height": 34
        },
        "outputId": "d862e290-fe87-4b6b-c8e7-67a1b621e44a"
      },
      "source": [
        "kolekcja_orig = ['kot', 'pies', 'żółw']\n",
        "kolekcja_moja = [ 'mój '+i for i in kolekcja_orig ]\n",
        "print(kolekcja_moja)"
      ],
      "execution_count": 3,
      "outputs": [
        {
          "output_type": "stream",
          "text": [
            "['mój kot', 'mój pies', 'mój żółw']\n"
          ],
          "name": "stdout"
        }
      ]
    },
    {
      "cell_type": "markdown",
      "metadata": {
        "id": "aSAwQLshQ8Vj",
        "colab_type": "text"
      },
      "source": [
        "Można również łączyć powyższe z waunkowością\n"
      ]
    },
    {
      "cell_type": "code",
      "metadata": {
        "id": "21tO7e9gQ8Vk",
        "colab_type": "code",
        "colab": {
          "base_uri": "https://localhost:8080/",
          "height": 34
        },
        "outputId": "acad8a59-ddb7-426e-8746-521f887d7dff"
      },
      "source": [
        "parzyste = [i for i in range(0, 20) if i % 2 == 0]\n",
        "print(parzyste)"
      ],
      "execution_count": 4,
      "outputs": [
        {
          "output_type": "stream",
          "text": [
            "[0, 2, 4, 6, 8, 10, 12, 14, 16, 18]\n"
          ],
          "name": "stdout"
        }
      ]
    },
    {
      "cell_type": "markdown",
      "metadata": {
        "id": "QRYU_UlPQ8Vn",
        "colab_type": "text"
      },
      "source": [
        "Lub z warunkową wartością\n"
      ]
    },
    {
      "cell_type": "code",
      "metadata": {
        "id": "7RjLpIdXQ8Vo",
        "colab_type": "code",
        "colab": {
          "base_uri": "https://localhost:8080/",
          "height": 54
        },
        "outputId": "399ca559-78bb-4454-fed7-daa8ac3000d6"
      },
      "source": [
        "tablica_parzystych = [ 'L: '+str(i)+' parzysta' if i % 2 ==0 else 'L: '+str(i)+' nieparzysta' for i in range(0,20) ]\n",
        "print(tablica_parzystych)"
      ],
      "execution_count": 5,
      "outputs": [
        {
          "output_type": "stream",
          "text": [
            "['L: 0 parzysta', 'L: 1 nieparzysta', 'L: 2 parzysta', 'L: 3 nieparzysta', 'L: 4 parzysta', 'L: 5 nieparzysta', 'L: 6 parzysta', 'L: 7 nieparzysta', 'L: 8 parzysta', 'L: 9 nieparzysta', 'L: 10 parzysta', 'L: 11 nieparzysta', 'L: 12 parzysta', 'L: 13 nieparzysta', 'L: 14 parzysta', 'L: 15 nieparzysta', 'L: 16 parzysta', 'L: 17 nieparzysta', 'L: 18 parzysta', 'L: 19 nieparzysta']\n"
          ],
          "name": "stdout"
        }
      ]
    },
    {
      "cell_type": "markdown",
      "metadata": {
        "id": "26XpUmb9Q8Vs",
        "colab_type": "text"
      },
      "source": [
        "\n",
        "# Pętla while-else?\n",
        "\n",
        "W składni Pythona występuje również pętla z klauzulą 'else'. Jest to coś niespotykanego w innych językach programowania\n"
      ]
    },
    {
      "cell_type": "code",
      "metadata": {
        "id": "CpjnmXhPQ8Vt",
        "colab_type": "code",
        "colab": {
          "base_uri": "https://localhost:8080/",
          "height": 122
        },
        "outputId": "70e2fe07-33f2-42e8-aa3b-d5e99be1d7ad"
      },
      "source": [
        "liczba = 0\n",
        "while liczba < 5:\n",
        "  print(\"W petli\")\n",
        "  liczba+=1\n",
        "else:\n",
        "  print(\"Koniec przez 'else'\")"
      ],
      "execution_count": 6,
      "outputs": [
        {
          "output_type": "stream",
          "text": [
            "W petli\n",
            "W petli\n",
            "W petli\n",
            "W petli\n",
            "W petli\n",
            "Koniec przez 'else'\n"
          ],
          "name": "stdout"
        }
      ]
    },
    {
      "cell_type": "markdown",
      "metadata": {
        "id": "K67SJ3HeQ8Vw",
        "colab_type": "text"
      },
      "source": [
        "Rodzi to pytanie wielu osób zajmujących się programowaniem - czemu tego używać? Prezentujemy przykład pokazujący zasadę używania:\n"
      ]
    },
    {
      "cell_type": "code",
      "metadata": {
        "id": "6H6cdzPIQ8Vx",
        "colab_type": "code",
        "colab": {
          "base_uri": "https://localhost:8080/",
          "height": 87
        },
        "outputId": "b1c8c2ab-c308-403f-a989-0f65c8a2bd0c"
      },
      "source": [
        "liczba = 3\n",
        "while liczba < 20 :\n",
        "  print(\"W pętli\")\n",
        "  if (liczba <= 0):\n",
        "    break\n",
        "  liczba += 1\n",
        "  liczba *= liczba\n",
        "else:\n",
        "  print(\"Koniec przez 'else'\")\n",
        "print(\"Koniec petli\")"
      ],
      "execution_count": 7,
      "outputs": [
        {
          "output_type": "stream",
          "text": [
            "W pętli\n",
            "W pętli\n",
            "Koniec przez 'else'\n",
            "Koniec petli\n"
          ],
          "name": "stdout"
        }
      ]
    },
    {
      "cell_type": "code",
      "metadata": {
        "id": "j-R-zb6NQ8V0",
        "colab_type": "code",
        "colab": {
          "base_uri": "https://localhost:8080/",
          "height": 52
        },
        "outputId": "84333214-ffcb-4591-db62-e39ff53feff5"
      },
      "source": [
        "liczba = -3\n",
        "while liczba < 20 :\n",
        "  print(\"W pętli\")\n",
        "  if (liczba <= 0):\n",
        "    break\n",
        "  liczba += 1\n",
        "  liczba *= liczba\n",
        "else:\n",
        "  print(\"Koniec przez 'else'\")\n",
        "print(\"Koniec petli\")"
      ],
      "execution_count": 8,
      "outputs": [
        {
          "output_type": "stream",
          "text": [
            "W pętli\n",
            "Koniec petli\n"
          ],
          "name": "stdout"
        }
      ]
    },
    {
      "cell_type": "markdown",
      "metadata": {
        "id": "YH0hb7epQ8V4",
        "colab_type": "text"
      },
      "source": [
        "Pętle while-else wykorzystujemy wiec w sytuacji gdy chcemy wykonać określoną liczbę pętli i zakończyć je pewnym kodem. Dopuszczamy jednak możliwość, że w trakcie wykonywania pętli dojdzie do sytuacji, kiedy ta dodatkowa klauzula nie powinna się wykonać.\n",
        "\n",
        "Powyższa petla nie należy do najczęściej stosowanych instrukcji języka Pythona. Należy ją traktować jako ciekawostkę.\n"
      ]
    },
    {
      "cell_type": "markdown",
      "metadata": {
        "id": "_bXi6PJvQ8V4",
        "colab_type": "text"
      },
      "source": [
        "# Funkcje lambda\n",
        "\n",
        "Funkcje lambda są elementem programowania funkcyjnego, który przenika do coraz większej liczby języków programowania strukturalno-obiektowego. Pozwalają one tworzyć proste funkcje tak jak tworzy się zmienne. Składnia jest prosta i przyjemna:"
      ]
    },
    {
      "cell_type": "code",
      "metadata": {
        "id": "fFAXfD62Q8V6",
        "colab_type": "code",
        "colab": {
          "base_uri": "https://localhost:8080/",
          "height": 34
        },
        "outputId": "7444dc8c-54d0-400a-a7ca-9be52038b1ff"
      },
      "source": [
        "plus_one = lambda x : x+1\n",
        "print( plus_one(3) )"
      ],
      "execution_count": 9,
      "outputs": [
        {
          "output_type": "stream",
          "text": [
            "4\n"
          ],
          "name": "stdout"
        }
      ]
    },
    {
      "cell_type": "markdown",
      "metadata": {
        "id": "sf3RYW-FQ8V8",
        "colab_type": "text"
      },
      "source": [
        "Funkcje lambda wykorzytywane są coraz częściej do skrócenia pewnych form zapisu w kodzie.\n",
        "\n",
        "Choć Python narzuca pewne ograniczenia na to co dzieje w funkcjach lambda - może tam się dziać naprawdę wiele rzeczy - np instrukcja warunkowaFunkcje lambda wykorzytywane są coraz częściej do skrócenia pewnych form zapisu w kodzie.\n",
        "\n",
        "Choć Python narzuca pewne ograniczenia na to co dzieje w funkcjach lambda - może tam się dziać naprawdę wiele rzeczy - np instrukcja warunkowa"
      ]
    },
    {
      "cell_type": "code",
      "metadata": {
        "id": "e68TMuhcQ8V9",
        "colab_type": "code",
        "colab": {
          "base_uri": "https://localhost:8080/",
          "height": 34
        },
        "outputId": "5f13151a-2f75-4821-9523-91c431af2f17"
      },
      "source": [
        "kolekcja = [i for i in range(10)]\n",
        "parzystosc = lambda x : 'TAK' if x%2==0 else 'NIE'\n",
        "parzystosc_kolekcja = [ parzystosc(i) for i in kolekcja]\n",
        "print(parzystosc_kolekcja)"
      ],
      "execution_count": 10,
      "outputs": [
        {
          "output_type": "stream",
          "text": [
            "['TAK', 'NIE', 'TAK', 'NIE', 'TAK', 'NIE', 'TAK', 'NIE', 'TAK', 'NIE']\n"
          ],
          "name": "stdout"
        }
      ]
    },
    {
      "cell_type": "markdown",
      "metadata": {
        "id": "GMwAiIOCQ8V_",
        "colab_type": "text"
      },
      "source": [
        "# Inne nietypowe elementy\n",
        "\n",
        "## Obiekt None\n",
        "\n",
        "Spośród wielu obiektów występujących w Pythonie, nie wiele jest równie ciekawych co obiekt None. Aby wogóle zacząć od wyobrażenia sobie tego czym jest None, odwołamy się do analogii. \n",
        "\n",
        "W C++\n",
        "```cpp\n",
        "Klasa* obiekt = nullptr; \n",
        "```\n",
        "\n",
        "czy w Javie\n",
        "```java\n",
        "String s = null;\n",
        "```\n",
        "było bardzo powszechną konstrukcją. Obiekty były tam przechowywane pod postacią referencji do nich, a wsród nich była możliwość ustawienia referencji na pusty adres pamięci tj. null. Praktycznie None ma bardzo podobne zachowanie i zastosowanie.\n",
        "\n",
        "Jest kilka pragmatycznych różnic pomiędzy wymienionymi. None nie jest adresem, jest obiektem. I to obiektem specjalnego typu NoneType."
      ]
    },
    {
      "cell_type": "code",
      "metadata": {
        "id": "t8dWsjZkQ8WA",
        "colab_type": "code",
        "colab": {
          "base_uri": "https://localhost:8080/",
          "height": 34
        },
        "outputId": "253d3f5c-52ef-4cac-8c8e-4b6368a07616"
      },
      "source": [
        "zmienna = None\n",
        "print(zmienna)"
      ],
      "execution_count": 11,
      "outputs": [
        {
          "output_type": "stream",
          "text": [
            "None\n"
          ],
          "name": "stdout"
        }
      ]
    },
    {
      "cell_type": "code",
      "metadata": {
        "id": "c0qT16I4Q8WC",
        "colab_type": "code",
        "colab": {
          "base_uri": "https://localhost:8080/",
          "height": 34
        },
        "outputId": "00d5f7fd-99e3-47a5-af96-98884b4ceba6"
      },
      "source": [
        "type(zmienna)"
      ],
      "execution_count": 12,
      "outputs": [
        {
          "output_type": "execute_result",
          "data": {
            "text/plain": [
              "NoneType"
            ]
          },
          "metadata": {
            "tags": []
          },
          "execution_count": 12
        }
      ]
    },
    {
      "cell_type": "markdown",
      "metadata": {
        "id": "0Lngj-rNQ8WH",
        "colab_type": "text"
      },
      "source": [
        "Do radzenia sobie z None należy używać specjalnych struktur w if-ach"
      ]
    },
    {
      "cell_type": "code",
      "metadata": {
        "id": "6rMKU5AeQ8WI",
        "colab_type": "code",
        "colab": {
          "base_uri": "https://localhost:8080/",
          "height": 52
        },
        "outputId": "a9862ac5-51c5-4e36-fc2f-f272e4cbe203"
      },
      "source": [
        "a = None\n",
        "if a is None:\n",
        "    print('A is None')\n",
        "    \n",
        "b = 7 \n",
        "if b is not None:\n",
        "    print('B is not None')"
      ],
      "execution_count": 13,
      "outputs": [
        {
          "output_type": "stream",
          "text": [
            "A is None\n",
            "B is not None\n"
          ],
          "name": "stdout"
        }
      ]
    },
    {
      "cell_type": "markdown",
      "metadata": {
        "id": "TPnMAc_xQ8WK",
        "colab_type": "text"
      },
      "source": [
        "None najczęściej używany jest do oznaczenia zmiennych czy obiektów, które dopiero zostaną utworzone i na razie wymagają szczególnego oznaczenia, że nie jeszcze nie istnieją."
      ]
    },
    {
      "cell_type": "markdown",
      "metadata": {
        "id": "V5x5oNVsQ8WL",
        "colab_type": "text"
      },
      "source": [
        "## Operacja pass\n",
        "\n",
        "jest jeszcze polecenie pass. Najczęściej używamy je w funkcjach by oznaczyć, że na chwilę obecną brakuje w nich implementacji."
      ]
    },
    {
      "cell_type": "code",
      "metadata": {
        "id": "W0__uvnvQ8WM",
        "colab_type": "code",
        "colab": {
          "base_uri": "https://localhost:8080/",
          "height": 34
        },
        "outputId": "8a6637b3-82e8-4586-9fd5-4143ad24c8c8"
      },
      "source": [
        "a = 7 \n",
        "if a % 2 == 0:\n",
        "    pass\n",
        "else:\n",
        "    print('nieparzysta')\n",
        "\n",
        "\n",
        "def jakas_funkcja():\n",
        "    pass"
      ],
      "execution_count": 14,
      "outputs": [
        {
          "output_type": "stream",
          "text": [
            "nieparzysta\n"
          ],
          "name": "stdout"
        }
      ]
    },
    {
      "cell_type": "markdown",
      "metadata": {
        "id": "i_x_Yj4vQ8WO",
        "colab_type": "text"
      },
      "source": [
        "Instrukcja taka jest potrzebna w języku Python, gdyż nie ma możliwości tworzenia pustych bloków."
      ]
    },
    {
      "cell_type": "markdown",
      "metadata": {
        "id": "RccP5166Q8WP",
        "colab_type": "text"
      },
      "source": [
        "## Klauzula with\n",
        "\n",
        "Klauzula with służy do pracy z tzw. kontekstami. Najprościej można je rozumieć jak tworzenie bloku do pracy z pewnym zewnętrznym względem Pythona narzędziem. Przykładem może tu być praca z otwartym plikiem na dysku, zasobem internetowym, czy innym programem systemu operacyjnego."
      ]
    },
    {
      "cell_type": "code",
      "metadata": {
        "id": "nwVBaoFSQ8WP",
        "colab_type": "code",
        "colab": {
          "base_uri": "https://localhost:8080/",
          "height": 238
        },
        "outputId": "e6b945a3-a728-4c30-b395-328f7557afbe"
      },
      "source": [
        "with open('readme.txt', 'r') as plik:\n",
        "    dane = plik.read()\n",
        "    print('Czy plik jest zamknięty ', plik.closed)\n",
        "print(dane)\n",
        "print('Czy plik jest zamknięty ', plik.closed)"
      ],
      "execution_count": 15,
      "outputs": [
        {
          "output_type": "error",
          "ename": "FileNotFoundError",
          "evalue": "ignored",
          "traceback": [
            "\u001b[0;31m---------------------------------------------------------------------------\u001b[0m",
            "\u001b[0;31mFileNotFoundError\u001b[0m                         Traceback (most recent call last)",
            "\u001b[0;32m<ipython-input-15-3eb8733bf2fc>\u001b[0m in \u001b[0;36m<module>\u001b[0;34m()\u001b[0m\n\u001b[0;32m----> 1\u001b[0;31m \u001b[0;32mwith\u001b[0m \u001b[0mopen\u001b[0m\u001b[0;34m(\u001b[0m\u001b[0;34m'readme.txt'\u001b[0m\u001b[0;34m,\u001b[0m \u001b[0;34m'r'\u001b[0m\u001b[0;34m)\u001b[0m \u001b[0;32mas\u001b[0m \u001b[0mplik\u001b[0m\u001b[0;34m:\u001b[0m\u001b[0;34m\u001b[0m\u001b[0;34m\u001b[0m\u001b[0m\n\u001b[0m\u001b[1;32m      2\u001b[0m     \u001b[0mdane\u001b[0m \u001b[0;34m=\u001b[0m \u001b[0mplik\u001b[0m\u001b[0;34m.\u001b[0m\u001b[0mread\u001b[0m\u001b[0;34m(\u001b[0m\u001b[0;34m)\u001b[0m\u001b[0;34m\u001b[0m\u001b[0;34m\u001b[0m\u001b[0m\n\u001b[1;32m      3\u001b[0m     \u001b[0mprint\u001b[0m\u001b[0;34m(\u001b[0m\u001b[0;34m'Czy plik jest zamknięty '\u001b[0m\u001b[0;34m,\u001b[0m \u001b[0mplik\u001b[0m\u001b[0;34m.\u001b[0m\u001b[0mclosed\u001b[0m\u001b[0;34m)\u001b[0m\u001b[0;34m\u001b[0m\u001b[0;34m\u001b[0m\u001b[0m\n\u001b[1;32m      4\u001b[0m \u001b[0mprint\u001b[0m\u001b[0;34m(\u001b[0m\u001b[0mdane\u001b[0m\u001b[0;34m)\u001b[0m\u001b[0;34m\u001b[0m\u001b[0;34m\u001b[0m\u001b[0m\n\u001b[1;32m      5\u001b[0m \u001b[0mprint\u001b[0m\u001b[0;34m(\u001b[0m\u001b[0;34m'Czy plik jest zamknięty '\u001b[0m\u001b[0;34m,\u001b[0m \u001b[0mplik\u001b[0m\u001b[0;34m.\u001b[0m\u001b[0mclosed\u001b[0m\u001b[0;34m)\u001b[0m\u001b[0;34m\u001b[0m\u001b[0;34m\u001b[0m\u001b[0m\n",
            "\u001b[0;31mFileNotFoundError\u001b[0m: [Errno 2] No such file or directory: 'readme.txt'"
          ]
        }
      ]
    },
    {
      "cell_type": "markdown",
      "metadata": {
        "id": "gznHWXlFQ8WS",
        "colab_type": "text"
      },
      "source": [
        "Należy stąd wyciągnać następującą obserwację\n",
        "\n",
        "* Przy wykorzystaniu with w bloku zamkniete są wszystkie operacje wykonywane na danym kontekście\n",
        "* blok zarządza tym aby operacje otworzenia i zamknięcia danego kontekstu zostały należycie wykonane (np. poczeka na otwarcie zamknięcie pliku)\n",
        "\n",
        "Dalej przyjrzymy się jeszcze czego potrzeba aby napisać własny kontekst (UWAGA! wymaga przerobienia kursu z programowania obiektowego)\n"
      ]
    },
    {
      "cell_type": "code",
      "metadata": {
        "id": "rSt8FXaYQ8WT",
        "colab_type": "code",
        "colab": {
          "base_uri": "https://localhost:8080/",
          "height": 140
        },
        "outputId": "bc16d059-183e-4fc3-d43f-ddf0e30ead58"
      },
      "source": [
        "class MojeDane(object):\n",
        "    \n",
        "    def __init__(self):\n",
        "        self._data = []\n",
        "        \n",
        "    def add(self, item):\n",
        "        self._data.append(item)\n",
        "        \n",
        "    def show(self):\n",
        "        print(self._data)\n",
        "        \n",
        "        \n",
        "class MojKontekst(object):\n",
        "    \n",
        "    def __init__(self, md: MojeDane):\n",
        "        print('Utworzono kontekst')\n",
        "        self._dane = md\n",
        "        \n",
        "    def __enter__(self):\n",
        "        print('Wywołano enter')\n",
        "    \n",
        "    def __exit__(self, exc_type, exc_val, exc_tb):\n",
        "        print('Wywołano exit')\n",
        "\n",
        "\n",
        "print('Zaczynami')\n",
        "md = MojeDane()\n",
        "with MojKontekst(md):\n",
        "    print('Zaczeliśmy')\n",
        "    md.add(3)\n",
        "    md.show()\n",
        "print('Zakonczylismy')"
      ],
      "execution_count": 16,
      "outputs": [
        {
          "output_type": "stream",
          "text": [
            "Zaczynami\n",
            "Utworzono kontekst\n",
            "Wywołano enter\n",
            "Zaczeliśmy\n",
            "[3]\n",
            "Wywołano exit\n",
            "Zakonczylismy\n"
          ],
          "name": "stdout"
        }
      ]
    },
    {
      "cell_type": "markdown",
      "metadata": {
        "id": "c2aGmQioQ8WY",
        "colab_type": "text"
      },
      "source": [
        "# Moduły w Python\n",
        "\n",
        "W niniejszej lekcji wprowadzimy sobie rzeczy niezbędne do tworzenia większych projektów z wykorzystaniem języka Python. Komponentem tym są moduły, Python umożliwia bowiem bardzo wygodne grupowanie skryptów. W niniejszej lekcji pokażemy zarówno jak wzywać do pracy moduły napisane przez programistów i umieszczone w repozytoriach kodu, jak i samodzielnie tworzyć takie moduły.\n",
        "\n",
        "\n",
        "# Tworzenie własnych modułów\n",
        "\n",
        "W większości języków programowania tworzenie modułów okazuje się być czymś zaawansowanym, nie czymś czego można się nauczyć od początku. Inaczej zupełnie jest w Pythonie. Jest tak dlatego, że moduły są wyrażane przez bardzo zwykłe elementy, którymi są \n",
        "\n",
        "* katalogi, oraz\n",
        "* pliki.\n",
        "\n",
        "Tworzy to prostą strukturę wszelkich nazw w postaci 'ścieżka katalogowa' - 'plik' - 'nazwa w pliku'. Aby utworzyć nowe moduły wystarczy wybrać na projekcie PPM i utworzyć Python Package. PyCharm utworzy dodatkowo plik $__init__.py$ w którym znajdują się wartości inicjowane przy imporcie modułu (ale który nie powienien być przez nas edytowany na tym etapie). Poza tym pełnią jedynie funkcje informacyjną, że katalog zawiera moduły Pythona. W katalogach tych można przechowywać wiele plików skryptów Pythona.\n",
        "\n",
        "Utwórzmy zatem pakiet o nazwie 'paczka', w nim utwórzmy nowy skrypt pythona o nazwie 'plik_w_paczce'\n",
        "\n",
        "Zdefiniujmy w pliku_w_paczce następującą funkcje:\n",
        "\n",
        "```python\n",
        "def powiedz_hello():\n",
        "    print('Hello')\n",
        "```\n",
        "\n",
        "Aby użyć tej funkcji w skrypcie testowy należy odpowiednio go zaimportować\n"
      ]
    },
    {
      "cell_type": "code",
      "metadata": {
        "id": "nYP1NrpWQ8WZ",
        "colab_type": "code",
        "colab": {}
      },
      "source": [
        "from paczka.plik_w_paczce import powiedz_hello\n",
        "\n",
        "print('Wykorzystajmy kod z modułu paczka')\n",
        "powiedz_hello()"
      ],
      "execution_count": 0,
      "outputs": []
    },
    {
      "cell_type": "markdown",
      "metadata": {
        "id": "-YcLEPRyQ8Wc",
        "colab_type": "text"
      },
      "source": [
        "Możliwe jest również zmienienie w locie importowanej nazwy - zgodnie z poniższym przykładem"
      ]
    },
    {
      "cell_type": "code",
      "metadata": {
        "id": "UR7XmBRrQ8Wc",
        "colab_type": "code",
        "colab": {},
        "outputId": "de186b3a-9406-4dd7-e28c-7541df9fd9b9"
      },
      "source": [
        "from paczka.plik_w_paczce import powiedz_hello as importowana_funkcja\n",
        "\n",
        "print('Wykorzystajmy kod z modułu paczka')\n",
        "importowana_funkcja()"
      ],
      "execution_count": 0,
      "outputs": [
        {
          "output_type": "stream",
          "text": [
            "Wykorzystajmy kod z modułu paczka\n",
            "Hello\n"
          ],
          "name": "stdout"
        }
      ]
    },
    {
      "cell_type": "markdown",
      "metadata": {
        "id": "PTnc_6F3Q8Wf",
        "colab_type": "text"
      },
      "source": [
        "## Importowanie modułów\n",
        "\n",
        "Aby zaimportować moduł należy użyć następującej składni\n",
        "\n",
        "```python\n",
        "import plik\n",
        "import moduł.plik\n",
        "import moduł.submoduł.plik\n",
        "from plik import *\n",
        "from plik import nazwa\n",
        "from moduł.plik import *\n",
        "from moduł.plik import nazwa1, nazwa2\n",
        "```\n",
        "\n",
        "Ponadto z uwagi na to, że przestrzenie nazw poszczególnych modułów mogą zawierać duplikujące się nazwy. Często stosowany jest zatem zabieg przezwania.\n",
        "\n",
        "```python\n",
        "import nazwa_modułu as przezwanie\n",
        "from moduł import nazwa_w_pliku as przezwanie\n",
        "```\n",
        "\n",
        "### Uwaga\n",
        "\n",
        "Nie należy nazywać projektów lub modułów nazwami takimi jak znane i zainstalowane pakiety Pythona"
      ]
    },
    {
      "cell_type": "markdown",
      "metadata": {
        "id": "PceKWQ3MQ8Wf",
        "colab_type": "text"
      },
      "source": [
        "# Instalacja modułow zewnętrznych\n",
        "\n",
        "Teraz kiedy mamy już z grubsza opanowane tworzenie własnych modułów, wiemy już jak wezwać do pracy cudze moduły. Do uzupełnienia brakuje jednak jednej rzeczy. Jak pobrać te skrypty do siebie na komputer? Python posiada specjalnie wbudowany w siebie program do łączenie się ze zdalnymi repozytoriami kodu celem ich pobrania. Instalacja dodatkowych pakietów odbywa się często poprzez system operacyjny (poza PyCharm).\n",
        "\n",
        "## Podstawowy tryb instalacji\n",
        "\n",
        "PyCharm w znacznej większości przykładów pozwoli nam automatycznie dołączyć porządany pakiet (o ile pracujemy z wirtualnym środowiskiem)\n",
        "Z poziomu pycharm dodajemy w pliku linijkę\n",
        "\n",
        "```python\n",
        "import numpy\n",
        "```\n",
        "\n",
        "Kiedy Pycharm podkreśli nam brak takiego pakietu wykonujemy kombinację klawiszy alt+enter (klikamy kursorem w podkreślenie i wciskamy) i wybieramy instalację brakującego pakietu.\n",
        "\n",
        "Alternatywnie pod ścieżką Plil->Ustawienia->Project:->Project interpreter można za pomocą przycisku + wywołać okno instalacji do nowych pakietów. W miejscu tym można również wybrać interpreter dla projek\n",
        "\n",
        "## Zaawansowany tryb instalacji\n",
        "\n",
        "Poniższa instrukcja jest tutaj podana jedynie na potrzeby wystąpienia problemów z instalacją pakietów. \n",
        "\n",
        "Aby pobrać nowe pakiety z poziomu systemu operacyjnego wchodzimy do katalogu Scripts (lub bin) w VirtEnv, które założyliśmy. Powinniśmy być w stanie odszukać tam program python (lub python.exe). W tym katalogu uruchamiamy okno konsoli/terminal.\n",
        "\n",
        "Są dostępne dwa warianty\n",
        "\n",
        "* Jeśli dostępny jest tam obok program o nazwie pip stosujemy pierwszą formułę.\n",
        "* Jeśli nie jest ten program tam dostępny - nie poddajemy się i stosujemy drugą formułę.\n",
        "\n",
        "Pierwsza formuła dla linux\n",
        "\n",
        "```bash\n",
        "./pip install nazwa_modułu\n",
        "```\n",
        "\n",
        "Pierwsza formuła dla windows\n",
        "\n",
        "```bash\n",
        "pip.exe install nazwa_modułu\n",
        "```\n",
        "\n",
        "Druga formuła dla linux\n",
        "\n",
        "```bash\n",
        "./python -m pip install nazwa_modułu\n",
        "```\n",
        "\n",
        "Druga formuła dla windows\n",
        "\n",
        "```bash\n",
        "python.exe -m pip install nazwa_modułu\n",
        "```\n",
        "\n",
        "## Problemy z dostępem do konsoli\n",
        "\n",
        "Niektóre komputery z windows mają jednak zablokowany dostęp do konsoli. Należy traktować to w ramach niedogodności. Równorzędnie z uruchomieniem w konsoli, możliwe jest utworzenie skryptu .bat. Tworzymy plik testowy w katalogu z programem python/pip o następującej treści\n",
        "\n",
        "```{}\n",
        "pip.exe install nazwa_modułu > log.txt\n",
        "```\n",
        "\n",
        "Następnie zmieniamy jego rozszerzenie z .txt na .bat. i klikamy na niego celem wykonania. Niestety w tym wypadku mamy małe pole do obserwowania efektów jego działania."
      ]
    },
    {
      "cell_type": "markdown",
      "metadata": {
        "id": "ynjdnmdIQ8Wg",
        "colab_type": "text"
      },
      "source": [
        "# Praca z podstawowymi pakietami Pythona\n",
        "\n",
        "Wprowadźmy kilka naprawdę podstawowych pakietów Pythona do podstawowej pracy\n",
        "\n",
        "## Pakiet math\n",
        "Pakiet [math](https://docs.python.org/3/library/math.html)  dostarcza podstawowe matematyczne funkcje"
      ]
    },
    {
      "cell_type": "code",
      "metadata": {
        "id": "yZ0Lk66VQ8Wh",
        "colab_type": "code",
        "colab": {
          "base_uri": "https://localhost:8080/",
          "height": 158
        },
        "outputId": "bdbeeefa-335b-4a35-806b-24c2ac9dae46"
      },
      "source": [
        "import math\n",
        "\n",
        "x = 3.1415\n",
        "print(math.ceil(x))\n",
        "print(math.floor(x))\n",
        "\n",
        "x = -3\n",
        "print(math.fabs(x))\n",
        "\n",
        "print(math.factorial(4))\n",
        "\n",
        "print(math.exp(1))\n",
        "\n",
        "print(math.log(2, 2))\n",
        "\n",
        "print(math.pow(7, 3))\n",
        "\n",
        "print(math.sin(math.pi))"
      ],
      "execution_count": 18,
      "outputs": [
        {
          "output_type": "stream",
          "text": [
            "4\n",
            "3\n",
            "3.0\n",
            "24\n",
            "2.718281828459045\n",
            "1.0\n",
            "343.0\n",
            "1.2246467991473532e-16\n"
          ],
          "name": "stdout"
        }
      ]
    },
    {
      "cell_type": "markdown",
      "metadata": {
        "id": "GN4Vkj8FQ8Wj",
        "colab_type": "text"
      },
      "source": [
        "## Pakiet Random\n",
        "\n",
        "Kolejnym pakietem jest pakiet [Random](https://docs.python.org/3/library/random.html) dostarczającym podstawowe sposoby na generowanie liczb losowych"
      ]
    },
    {
      "cell_type": "code",
      "metadata": {
        "id": "xkSrGJdpQ8Wk",
        "colab_type": "code",
        "colab": {
          "base_uri": "https://localhost:8080/",
          "height": 34
        },
        "outputId": "d106ede9-7010-4144-c606-5cd865d644f0"
      },
      "source": [
        "import random\n",
        "\n",
        "sample = random.randint(1, 6)\n",
        "\n",
        "print('Losowy wynik to ', sample)"
      ],
      "execution_count": 19,
      "outputs": [
        {
          "output_type": "stream",
          "text": [
            "Losowy wynik to  3\n"
          ],
          "name": "stdout"
        }
      ]
    },
    {
      "cell_type": "markdown",
      "metadata": {
        "id": "R0g03gwzQ8Wm",
        "colab_type": "text"
      },
      "source": [
        "## Pakiet OS\n",
        "\n",
        "Dalej jest pakiet OS, który dostarcza Pythonowi narzędzia do pracy z systemem plikow uruchomionym wyżej, tj. plikami, katalogami"
      ]
    },
    {
      "cell_type": "code",
      "metadata": {
        "id": "JTD5kV0qQ8Wm",
        "colab_type": "code",
        "colab": {
          "base_uri": "https://localhost:8080/",
          "height": 52
        },
        "outputId": "ab16b88f-caa7-475c-8789-aae395264c31"
      },
      "source": [
        "from os import listdir\n",
        "\n",
        "dirs = listdir()\n",
        "for dir in dirs:\n",
        "    print('Element ', dir)"
      ],
      "execution_count": 20,
      "outputs": [
        {
          "output_type": "stream",
          "text": [
            "Element  .config\n",
            "Element  sample_data\n"
          ],
          "name": "stdout"
        }
      ]
    },
    {
      "cell_type": "markdown",
      "metadata": {
        "id": "oH29EcUxQ8Wp",
        "colab_type": "text"
      },
      "source": [
        "Pozwala sprawdzić czy dany plik istnieje"
      ]
    },
    {
      "cell_type": "code",
      "metadata": {
        "id": "b92x20p8Q8Wp",
        "colab_type": "code",
        "colab": {},
        "outputId": "99be1fe2-8442-4cf3-ec39-caf62f6a40ea"
      },
      "source": [
        "import os.path\n",
        "\n",
        "if os.path.exists('testowy.py'):\n",
        "    print(('Plik istnieje'))\n",
        "else:\n",
        "    print('Plik nie istnieje')"
      ],
      "execution_count": 0,
      "outputs": [
        {
          "output_type": "stream",
          "text": [
            "Plik nie istnieje\n"
          ],
          "name": "stdout"
        }
      ]
    },
    {
      "cell_type": "markdown",
      "metadata": {
        "id": "0fJKXOvmQ8Ws",
        "colab_type": "text"
      },
      "source": [
        "# PyFormat\n",
        "\n",
        "W Pythonie mamy dostępne zaawansowane metody wypisywania i formatowania ciągów znaków tj. Stringów.\n",
        "\n",
        "Np. aby wypisać liczby w postaci binarnej\n"
      ]
    },
    {
      "cell_type": "code",
      "metadata": {
        "id": "zoXGzseaQ8Wt",
        "colab_type": "code",
        "colab": {
          "base_uri": "https://localhost:8080/",
          "height": 193
        },
        "outputId": "0a481740-f236-4a2a-f302-af2401b0b1b5"
      },
      "source": [
        "for i in range(10):\n",
        "    print(\"{0:b}\".format(i))"
      ],
      "execution_count": 21,
      "outputs": [
        {
          "output_type": "stream",
          "text": [
            "0\n",
            "1\n",
            "10\n",
            "11\n",
            "100\n",
            "101\n",
            "110\n",
            "111\n",
            "1000\n",
            "1001\n"
          ],
          "name": "stdout"
        }
      ]
    },
    {
      "cell_type": "markdown",
      "metadata": {
        "id": "c0Mx6SKoQ8Ww",
        "colab_type": "text"
      },
      "source": [
        "Lub w postaci szestnastkowej (HEXy)"
      ]
    },
    {
      "cell_type": "code",
      "metadata": {
        "id": "e53kZ_WKQ8Ww",
        "colab_type": "code",
        "colab": {
          "base_uri": "https://localhost:8080/",
          "height": 298
        },
        "outputId": "270a02a7-9e0c-4add-93dd-316c68e6eec7"
      },
      "source": [
        "for i in range(16):\n",
        "    print(\"{0:02X}\".format(i))"
      ],
      "execution_count": 22,
      "outputs": [
        {
          "output_type": "stream",
          "text": [
            "00\n",
            "01\n",
            "02\n",
            "03\n",
            "04\n",
            "05\n",
            "06\n",
            "07\n",
            "08\n",
            "09\n",
            "0A\n",
            "0B\n",
            "0C\n",
            "0D\n",
            "0E\n",
            "0F\n"
          ],
          "name": "stdout"
        }
      ]
    },
    {
      "cell_type": "markdown",
      "metadata": {
        "id": "iqwimvqpQ8Wy",
        "colab_type": "text"
      },
      "source": [
        "Inne przykłady składania PyFormat"
      ]
    },
    {
      "cell_type": "code",
      "metadata": {
        "id": "CzFQl7cjQ8Wz",
        "colab_type": "code",
        "colab": {
          "base_uri": "https://localhost:8080/",
          "height": 193
        },
        "outputId": "1206fdf4-5bf4-4867-acb4-19a3135cf3f3"
      },
      "source": [
        "print('{} {}'.format('one', 'two'))\n",
        "print('{} {}'.format(1, 2))\n",
        "print('{1} {0}'.format('one', 'two')) \n",
        "print('{:>10}'.format('test'))\n",
        "print('{:10}'.format('test'))\n",
        "print('{:_<10}'.format('test'))\n",
        "print('{:^10}'.format('test'))\n",
        "print('{:^6}'.format('zip'))\n",
        "print('{:.5}'.format('xylophone'))\n",
        "print('{:10.5}'.format('xylophone'))"
      ],
      "execution_count": 23,
      "outputs": [
        {
          "output_type": "stream",
          "text": [
            "one two\n",
            "1 2\n",
            "two one\n",
            "      test\n",
            "test      \n",
            "test______\n",
            "   test   \n",
            " zip  \n",
            "xylop\n",
            "xylop     \n"
          ],
          "name": "stdout"
        }
      ]
    },
    {
      "cell_type": "markdown",
      "metadata": {
        "id": "usYgzOJ_Q8W1",
        "colab_type": "text"
      },
      "source": [
        "Dla liczb natomiast mamy jeszcze dostępne formatowania"
      ]
    },
    {
      "cell_type": "code",
      "metadata": {
        "id": "10rMl1YXQ8W2",
        "colab_type": "code",
        "colab": {
          "base_uri": "https://localhost:8080/",
          "height": 263
        },
        "outputId": "f5145519-b895-4f68-d01e-688c1918ee61"
      },
      "source": [
        "print('{:d}'.format(42))\n",
        "print('{:f}'.format(3.141592653589793))\n",
        "print('{:4d}'.format(42))\n",
        "print('{:06.2f}'.format(3.141592653589793))\n",
        "print('{:04d}'.format(42))\n",
        "print('{:+d}'.format(42))\n",
        "print('{: d}'.format((- 23)))\n",
        "print('{: d}'.format(42))\n",
        "print('{:=+5d}'.format(23))\n",
        "data = {'first': 'Hodor', 'last': 'Hodor!'}\n",
        "print('{first} {last}'.format(**data))\n",
        "print('{first} {last}'.format(first='Hodor', last='Hodor!'))\n",
        "person = {'first': 'Jean-Luc', 'last': 'Picard'}\n",
        "print('{p[first]} {p[last]}'.format(p=person))\n",
        "data = [4, 8, 15, 16, 23, 42]\n",
        "print('{d[4]} {d[5]}'.format(d=data))\n",
        "from datetime import datetime\n",
        "print('{:%Y-%m-%d %H:%M}'.format(datetime(2001, 2, 3, 4, 5)))"
      ],
      "execution_count": 24,
      "outputs": [
        {
          "output_type": "stream",
          "text": [
            "42\n",
            "3.141593\n",
            "  42\n",
            "003.14\n",
            "0042\n",
            "+42\n",
            "-23\n",
            " 42\n",
            "+  23\n",
            "Hodor Hodor!\n",
            "Hodor Hodor!\n",
            "Jean-Luc Picard\n",
            "23 42\n",
            "2001-02-03 04:05\n"
          ],
          "name": "stdout"
        }
      ]
    },
    {
      "cell_type": "markdown",
      "metadata": {
        "id": "ijAOzlqyQ8W4",
        "colab_type": "text"
      },
      "source": [
        "Więcej przykładów na [stronie](https://pyformat.info/#conversion_flags)"
      ]
    },
    {
      "cell_type": "markdown",
      "metadata": {
        "id": "tGU_k3ZJQ8W4",
        "colab_type": "text"
      },
      "source": [
        "# Obsługa wyjątków w Python\n",
        "\n",
        "Python podobnie jak większość języków programowania pozwala na tworzenie, zgłaszanie i obsługiwanie wyjątków. \n",
        "\n",
        "Czym jest wyjątek? Jest sytuacją w działaniu programu, która uniemożliwia poprawne wykonanie części skryptu. Podobnie jak w Javie, kod który może nie zakończyć się poprawnym wykonaniem zgromadzić w bloku try\n"
      ]
    },
    {
      "cell_type": "code",
      "metadata": {
        "id": "RncoFRxwQ8W6",
        "colab_type": "code",
        "colab": {
          "base_uri": "https://localhost:8080/",
          "height": 52
        },
        "outputId": "b3c776b4-6984-4933-8271-2dc7984ad3b9"
      },
      "source": [
        "tekst = \"nie liczba\"\n",
        "try :\n",
        "  x = int(tekst)\n",
        "except ValueError:\n",
        "  print(\"Zła wartość, ale\")\n",
        "print(\"Juz w porzadku\")"
      ],
      "execution_count": 25,
      "outputs": [
        {
          "output_type": "stream",
          "text": [
            "Zła wartość, ale\n",
            "Juz w porzadku\n"
          ],
          "name": "stdout"
        }
      ]
    },
    {
      "cell_type": "markdown",
      "metadata": {
        "id": "XCR86O7AQ8W8",
        "colab_type": "text"
      },
      "source": [
        "## Definiowanie wyjątków\n",
        "\n",
        "Aby zdefiniować własny wyjatek należy (podobnie jak w Javie) oddziedziczyć go po klasie Exception. Aby zgłosić wyjątek używamy słowa kluczowego raise."
      ]
    },
    {
      "cell_type": "code",
      "metadata": {
        "id": "SKb3G6TTQ8W9",
        "colab_type": "code",
        "colab": {
          "base_uri": "https://localhost:8080/",
          "height": 34
        },
        "outputId": "87679ea5-bd8c-4c50-e0d7-72bdbbae9d80"
      },
      "source": [
        "class MyException(Exception):\n",
        "    pass\n",
        "\n",
        "\n",
        "def call_exception():\n",
        "    raise MyException()\n",
        "  \n",
        "  \n",
        "try: \n",
        "    call_exception()\n",
        "except MyException:\n",
        "    print(\"Przechwycono wyjątek\")"
      ],
      "execution_count": 26,
      "outputs": [
        {
          "output_type": "stream",
          "text": [
            "Przechwycono wyjątek\n"
          ],
          "name": "stdout"
        }
      ]
    },
    {
      "cell_type": "markdown",
      "metadata": {
        "id": "JP3scz1gQ8XB",
        "colab_type": "text"
      },
      "source": [
        "## try-except-else\n",
        "\n",
        "Jeśli w pythonie mamy możliwość zdefiniowania else do pętli to tym bardziej ma on sens przy bloku try. Jest to blok wykonujący się w przypadku gdy żaden wyjątek nie został zgłoszony (i tylko wtedy)."
      ]
    },
    {
      "cell_type": "code",
      "metadata": {
        "id": "a953daZGQ8XC",
        "colab_type": "code",
        "colab": {
          "base_uri": "https://localhost:8080/",
          "height": 87
        },
        "outputId": "28587a91-081e-4236-9a92-92d49d5b6050"
      },
      "source": [
        "def dzielenie(x, y):\n",
        "    try:\n",
        "        print(\"Dzielenie \"+str(x)+\"/\"+str(y))\n",
        "        result= x/y\n",
        "    except ZeroDivisionError:\n",
        "        print(\"Błąd dzielenia\")\n",
        "    else:\n",
        "        print(\"Wynik to \"+str(result))\n",
        "\n",
        "\n",
        "dzielenie(2, 3)\n",
        "dzielenie(1, 0)"
      ],
      "execution_count": 27,
      "outputs": [
        {
          "output_type": "stream",
          "text": [
            "Dzielenie 2/3\n",
            "Wynik to 0.6666666666666666\n",
            "Dzielenie 1/0\n",
            "Błąd dzielenia\n"
          ],
          "name": "stdout"
        }
      ]
    },
    {
      "cell_type": "markdown",
      "metadata": {
        "id": "Xvx0dpXBQ8XE",
        "colab_type": "text"
      },
      "source": [
        "## Finally\n",
        "\n",
        "Python posiada podobnie do Javy posiada też klauzulę finally, czyli blok który musi się wykonać niezależnie do tego czy wyjątek został czy nie został zgłoszony."
      ]
    },
    {
      "cell_type": "code",
      "metadata": {
        "id": "WG1tgQVhQ8XE",
        "colab_type": "code",
        "colab": {
          "base_uri": "https://localhost:8080/",
          "height": 122
        },
        "outputId": "e2a91a3d-1366-4b0b-ea90-f57eae29b41a"
      },
      "source": [
        "def dzielenie(x, y):\n",
        "    try:\n",
        "        print(\"Dzielenie \"+str(x)+\"/\"+str(y))\n",
        "        result= x/y\n",
        "    except ZeroDivisionError:\n",
        "        print(\"Błąd dzielenia\")\n",
        "    else:\n",
        "        print(\"Wynik to \"+str(result))\n",
        "    finally:\n",
        "        print(\"A ten blok wykona się zawsze\")\n",
        "\n",
        "\n",
        "dzielenie(2, 3)\n",
        "dzielenie(1, 0)"
      ],
      "execution_count": 28,
      "outputs": [
        {
          "output_type": "stream",
          "text": [
            "Dzielenie 2/3\n",
            "Wynik to 0.6666666666666666\n",
            "A ten blok wykona się zawsze\n",
            "Dzielenie 1/0\n",
            "Błąd dzielenia\n",
            "A ten blok wykona się zawsze\n"
          ],
          "name": "stdout"
        }
      ]
    },
    {
      "cell_type": "code",
      "metadata": {
        "id": "fmCW6ow3Q8XJ",
        "colab_type": "code",
        "colab": {}
      },
      "source": [
        ""
      ],
      "execution_count": 0,
      "outputs": []
    }
  ]
}
