{
  "nbformat": 4,
  "nbformat_minor": 0,
  "metadata": {
    "colab": {
      "name": "podstawowe_operacje_na_listach.ipynb",
      "provenance": [],
      "collapsed_sections": [],
      "include_colab_link": true
    },
    "kernelspec": {
      "name": "python3",
      "display_name": "Python 3"
    }
  },
  "cells": [
    {
      "cell_type": "markdown",
      "metadata": {
        "id": "view-in-github",
        "colab_type": "text"
      },
      "source": [
        "<a href=\"https://colab.research.google.com/github/rafgus1/IoT/blob/ZSE/podstawowe_operacje_na_listach.ipynb\" target=\"_parent\"><img src=\"https://colab.research.google.com/assets/colab-badge.svg\" alt=\"Open In Colab\"/></a>"
      ]
    },
    {
      "cell_type": "markdown",
      "metadata": {
        "id": "OvCYgrUU-t74",
        "colab_type": "text"
      },
      "source": [
        "# Bazowe operacje na listach tekstowych"
      ]
    },
    {
      "cell_type": "code",
      "metadata": {
        "id": "8uF7EOjJBExV",
        "colab_type": "code",
        "colab": {
          "base_uri": "https://localhost:8080/",
          "height": 34
        },
        "outputId": "1000d258-9476-42cf-8bf1-c0b6d8668986"
      },
      "source": [
        "bicycles = ['trekingowy', 'górski', 'miejski', 'szosowy']\n",
        "message = \"Moim pierwszym rowerem był rower \" + bicycles[0].title() + \".\"\n",
        "\n",
        "print(message)\n"
      ],
      "execution_count": 9,
      "outputs": [
        {
          "output_type": "stream",
          "text": [
            "Moim pierwszym rowerem był rower Trekingowy.\n"
          ],
          "name": "stdout"
        }
      ]
    },
    {
      "cell_type": "code",
      "metadata": {
        "id": "auyYBTAI-a9E",
        "colab_type": "code",
        "colab": {
          "base_uri": "https://localhost:8080/",
          "height": 306
        },
        "outputId": "50ad1399-1aab-4ddb-c64c-f157dad47020"
      },
      "source": [
        "auta = ['fiat', 'syrena', 'polonez', 'warszawa', 'mikrus', 'smyk']\n",
        "\n",
        "print(\"Oto lista początkowa:\")\n",
        "print(auta)\n",
        "\n",
        "print(\"\\nOto lista posortowana:\")\n",
        "print(sorted(auta))\n",
        "\n",
        "print(\"\\nOto lista posortowana:\")\n",
        "print(sorted(auta))\n",
        "\n",
        "print(\"\\nOto lista w odwrotnej kolejności alfabetycznej:\")\n",
        "print(sorted(auta, reverse=True))\n",
        "\n",
        "print(\"\\nOto ponownie lista początkowa:\")\n",
        "print(auta)\n",
        "\n",
        "auta.sort();\n",
        "print(\"\\nOto lista posortowana:\")\n",
        "print(auta) # teraz nie można wrócić do listy pierwotnej\n"
      ],
      "execution_count": 50,
      "outputs": [
        {
          "output_type": "stream",
          "text": [
            "Oto lista początkowa:\n",
            "['fiat', 'syrena', 'polonez', 'warszawa', 'mikrus', 'smyk']\n",
            "\n",
            "Oto lista posortowana:\n",
            "['fiat', 'mikrus', 'polonez', 'smyk', 'syrena', 'warszawa']\n",
            "\n",
            "Oto lista posortowana:\n",
            "['fiat', 'mikrus', 'polonez', 'smyk', 'syrena', 'warszawa']\n",
            "\n",
            "Oto lista w odwrotnej kolejności alfabetycznej:\n",
            "['warszawa', 'syrena', 'smyk', 'polonez', 'mikrus', 'fiat']\n",
            "\n",
            "Oto ponownie lista początkowa:\n",
            "['fiat', 'syrena', 'polonez', 'warszawa', 'mikrus', 'smyk']\n",
            "\n",
            "Oto lista posortowana:\n",
            "['fiat', 'mikrus', 'polonez', 'smyk', 'syrena', 'warszawa']\n"
          ],
          "name": "stdout"
        }
      ]
    },
    {
      "cell_type": "code",
      "metadata": {
        "id": "x4iH7q4F_arz",
        "colab_type": "code",
        "colab": {
          "base_uri": "https://localhost:8080/",
          "height": 85
        },
        "outputId": "985972f3-08ae-4969-81e4-eb2965d4caba"
      },
      "source": [
        "motocykle = ['romet', 'wsk', 'gad', 'lech', 'sm', 'perkun', 'mz'] \n",
        "print(motocykle)\n",
        "\n",
        "niemiecki = 'mz'\n",
        "motocykle.remove(niemiecki)\n",
        "print(motocykle)\n",
        "print(\"\\nMotocykl \" + niemiecki.title() + \" nie jest polskiej produkcji.\")\n"
      ],
      "execution_count": 11,
      "outputs": [
        {
          "output_type": "stream",
          "text": [
            "['romet', 'wsk', 'gad', 'lech', 'sm', 'perkun', 'mz']\n",
            "['romet', 'wsk', 'gad', 'lech', 'sm', 'perkun']\n",
            "\n",
            "Motocykl Mz nie jest polskiej produkcji.\n"
          ],
          "name": "stdout"
        }
      ]
    },
    {
      "cell_type": "code",
      "metadata": {
        "id": "05sPQNJZBOT6",
        "colab_type": "code",
        "colab": {
          "base_uri": "https://localhost:8080/",
          "height": 34
        },
        "outputId": "6b1e5c6a-d419-4381-e330-709a4e17d50e"
      },
      "source": [
        "auta = ['fiat', 'syrena', 'polonez', 'warszawa', 'mikrus', 'smyk']\n",
        "motocykle = ['romet', 'wsk', 'gad', 'lech', 'sm', 'perkun', 'mz'] \n",
        "\n",
        "pojazdy = auta + motocykle\n",
        "print(pojazdy)"
      ],
      "execution_count": 19,
      "outputs": [
        {
          "output_type": "stream",
          "text": [
            "['fiat', 'syrena', 'polonez', 'warszawa', 'mikrus', 'smyk', 'romet', 'wsk', 'gad', 'lech', 'sm', 'perkun', 'mz']\n"
          ],
          "name": "stdout"
        }
      ]
    },
    {
      "cell_type": "code",
      "metadata": {
        "id": "n1qA9bOxB9dg",
        "colab_type": "code",
        "colab": {
          "base_uri": "https://localhost:8080/",
          "height": 34
        },
        "outputId": "f78015cf-e8cb-4be8-aa1a-9f03adb7f29d"
      },
      "source": [
        "pojazdy.append('ikarus')\n",
        "pojazdy.append('autosan')\n",
        "\n",
        "print(pojazdy)"
      ],
      "execution_count": 20,
      "outputs": [
        {
          "output_type": "stream",
          "text": [
            "['fiat', 'syrena', 'polonez', 'warszawa', 'mikrus', 'smyk', 'romet', 'wsk', 'gad', 'lech', 'sm', 'perkun', 'mz', 'ikarus', 'autosan']\n"
          ],
          "name": "stdout"
        }
      ]
    },
    {
      "cell_type": "code",
      "metadata": {
        "id": "nb3A02muDFFl",
        "colab_type": "code",
        "colab": {
          "base_uri": "https://localhost:8080/",
          "height": 102
        },
        "outputId": "cf9e4f1a-1a3d-4fe9-fdb6-a54d2f891c9c"
      },
      "source": [
        "my_foods = ['pizza', 'falafel', 'ciasto z marchwi'] \n",
        "friend_foods = my_foods[:] \n",
        "\n",
        "my_foods.append('cannolo') \n",
        "friend_foods.append('lody') \n",
        "\n",
        "print(\"Moje ulubione potrawy to:\")\n",
        "print(my_foods)\n",
        "\n",
        "print(\"\\nUlubione potrawy mojego przyjaciela to:\")\n",
        "print(friend_foods)\n"
      ],
      "execution_count": 21,
      "outputs": [
        {
          "output_type": "stream",
          "text": [
            "Moje ulubione potrawy to:\n",
            "['pizza', 'falafel', 'ciasto z marchwi', 'cannolo']\n",
            "\n",
            "Ulubione potrawy mojego przyjaciela to:\n",
            "['pizza', 'falafel', 'ciasto z marchwi', 'lody']\n"
          ],
          "name": "stdout"
        }
      ]
    },
    {
      "cell_type": "code",
      "metadata": {
        "id": "aCtVOP_FDPfy",
        "colab_type": "code",
        "colab": {
          "base_uri": "https://localhost:8080/",
          "height": 85
        },
        "outputId": "69fd8ff8-1d06-4019-d815-8508cba753ef"
      },
      "source": [
        "players = ['karol', 'martyna', 'michał', 'florian', 'ela'] \n",
        "\n",
        "print(\"Oto trzech pierwszych graczy naszej drużyny:\")\n",
        "for player in players[:3]:\n",
        "    print(player.title())"
      ],
      "execution_count": 22,
      "outputs": [
        {
          "output_type": "stream",
          "text": [
            "Oto trzech pierwszych graczy naszej drużyny:\n",
            "Karol\n",
            "Martyna\n",
            "Michał\n"
          ],
          "name": "stdout"
        }
      ]
    },
    {
      "cell_type": "code",
      "metadata": {
        "id": "mHby6-7aDWlL",
        "colab_type": "code",
        "colab": {
          "base_uri": "https://localhost:8080/",
          "height": 187
        },
        "outputId": "49c2a66a-6f97-4719-8f78-c25878ce784f"
      },
      "source": [
        "magicians = ['alicja', 'dawid', 'karolina'] \n",
        "for magician in magicians: \n",
        "    print(magician.title() + \", to była doskonała sztuczka!\")  \n",
        "    print(\"Nie mogę się doczekać Twojej kolejnej sztuczki, \" + magician.title() + \".\\n\") \n",
        "    \n",
        "print(\"Dziękuję wszystkim. To był naprawdę wspaniały występ!\")\n"
      ],
      "execution_count": 23,
      "outputs": [
        {
          "output_type": "stream",
          "text": [
            "Alicja, to była doskonała sztuczka!\n",
            "Nie mogę się doczekać Twojej kolejnej sztuczki, Alicja.\n",
            "\n",
            "Dawid, to była doskonała sztuczka!\n",
            "Nie mogę się doczekać Twojej kolejnej sztuczki, Dawid.\n",
            "\n",
            "Karolina, to była doskonała sztuczka!\n",
            "Nie mogę się doczekać Twojej kolejnej sztuczki, Karolina.\n",
            "\n",
            "Dziękuję wszystkim. To był naprawdę wspaniały występ!\n"
          ],
          "name": "stdout"
        }
      ]
    },
    {
      "cell_type": "markdown",
      "metadata": {
        "id": "_EOIHZ-JDmam",
        "colab_type": "text"
      },
      "source": [
        "# Operacje na listach numerycznych"
      ]
    },
    {
      "cell_type": "code",
      "metadata": {
        "id": "cuF5CyhiDsZm",
        "colab_type": "code",
        "colab": {
          "base_uri": "https://localhost:8080/",
          "height": 34
        },
        "outputId": "3b7fc23a-ac55-4764-a9fd-b907f114f30f"
      },
      "source": [
        "numbers = list(range(1,6)) \n",
        "print(numbers) \n"
      ],
      "execution_count": 24,
      "outputs": [
        {
          "output_type": "stream",
          "text": [
            "[1, 2, 3, 4, 5]\n"
          ],
          "name": "stdout"
        }
      ]
    },
    {
      "cell_type": "code",
      "metadata": {
        "id": "ExzXZoBcDu_-",
        "colab_type": "code",
        "colab": {
          "base_uri": "https://localhost:8080/",
          "height": 34
        },
        "outputId": "883ec84e-bf13-4c1c-fedf-128ee0fd9baf"
      },
      "source": [
        "even_numbers = list(range(2,11,2)) \n",
        "print(even_numbers)\n"
      ],
      "execution_count": 25,
      "outputs": [
        {
          "output_type": "stream",
          "text": [
            "[2, 4, 6, 8, 10]\n"
          ],
          "name": "stdout"
        }
      ]
    },
    {
      "cell_type": "code",
      "metadata": {
        "id": "QPmrdIOoDy2H",
        "colab_type": "code",
        "colab": {
          "base_uri": "https://localhost:8080/",
          "height": 34
        },
        "outputId": "1cb89fab-7827-485e-b6b8-5434fbac5a18"
      },
      "source": [
        "squares = []\n",
        "for value in range(1,11):\n",
        "    square = value**2\n",
        "    squares.append(square)\n",
        "    \n",
        "print(squares)\n"
      ],
      "execution_count": 26,
      "outputs": [
        {
          "output_type": "stream",
          "text": [
            "[1, 4, 9, 16, 25, 36, 49, 64, 81, 100]\n"
          ],
          "name": "stdout"
        }
      ]
    },
    {
      "cell_type": "code",
      "metadata": {
        "id": "u7Sq1MTaD5vM",
        "colab_type": "code",
        "colab": {
          "base_uri": "https://localhost:8080/",
          "height": 340
        },
        "outputId": "5482cb6e-7c13-4429-b3f0-da2479d1edcf"
      },
      "source": [
        "wymiary = [200, 50]\n",
        "print(\"Wymiary początkowe w cm:\")\n",
        "for wymiar in wymiary:\n",
        "    print(wymiar)\n",
        "    \n",
        "wymiary = [400, 100]\n",
        "print(\"\\nWymiary po modyfikacji w cm:\")\n",
        "for wymiar in wymiary:\n",
        "    print(wymiar)\n",
        "\n",
        "print(\"\\nWymiary w m:\")\n",
        "for wymiar in wymiary:\n",
        "    print(wymiar / 100)\n",
        "\n",
        "wymiaryWMetrach = [x / 100 for x in wymiary]\n",
        "print(\"\\nWymiary w m:\")\n",
        "for wymiar in wymiaryWMetrach:\n",
        "    print(wymiar)\n",
        "\n",
        "wymiaryWMetrach = map(lambda x: x/100, wymiary)\n",
        "print(\"\\nWymiary w m:\")\n",
        "for wymiar in wymiaryWMetrach:\n",
        "    print(wymiar)\n",
        "\n"
      ],
      "execution_count": 44,
      "outputs": [
        {
          "output_type": "stream",
          "text": [
            "Wymiary początkowe w cm:\n",
            "200\n",
            "50\n",
            "\n",
            "Wymiary po modyfikacji w cm:\n",
            "400\n",
            "100\n",
            "\n",
            "Wymiary w m:\n",
            "4.0\n",
            "1.0\n",
            "\n",
            "Wymiary w m:\n",
            "4.0\n",
            "1.0\n",
            "\n",
            "Wymiary w m:\n",
            "4.0\n",
            "1.0\n"
          ],
          "name": "stdout"
        }
      ]
    },
    {
      "cell_type": "code",
      "metadata": {
        "id": "BHj9fo8LEiFG",
        "colab_type": "code",
        "colab": {
          "base_uri": "https://localhost:8080/",
          "height": 153
        },
        "outputId": "41239bb2-e0c3-45d0-8a4c-62216aea04f6"
      },
      "source": [
        "import numpy\n",
        "\n",
        "metr = 100 # liczba cm w m\n",
        "wymiaryWCentyMetrach = numpy.array(wymiary)\n",
        "wymiaryWMetrach = wymiaryWCentyMetrach/metr\n",
        "\n",
        "print(\"\\nWymiary w cm:\")\n",
        "for wymiar in wymiaryWCentyMetrach:\n",
        "    print(wymiar)\n",
        "\n",
        "print(\"\\nWymiary w m:\")\n",
        "for wymiar in wymiaryWMetrach:\n",
        "    print(wymiar)"
      ],
      "execution_count": 43,
      "outputs": [
        {
          "output_type": "stream",
          "text": [
            "\n",
            "Wymiary w cm:\n",
            "400\n",
            "100\n",
            "\n",
            "Wymiary w m:\n",
            "4.0\n",
            "1.0\n"
          ],
          "name": "stdout"
        }
      ]
    }
  ]
}
