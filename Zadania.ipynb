{
  "nbformat": 4,
  "nbformat_minor": 0,
  "metadata": {
    "colab": {
      "name": "Zadania.ipynb",
      "provenance": [],
      "include_colab_link": true
    },
    "kernelspec": {
      "name": "python3",
      "display_name": "Python 3"
    }
  },
  "cells": [
    {
      "cell_type": "markdown",
      "metadata": {
        "id": "view-in-github",
        "colab_type": "text"
      },
      "source": [
        "<a href=\"https://colab.research.google.com/github/rafgus1/blob/ZSE/Zadania.ipynb\" target=\"_parent\"><img src=\"https://colab.research.google.com/assets/colab-badge.svg\" alt=\"Open In Colab\"/></a>"
      ]
    },
    {
      "cell_type": "markdown",
      "metadata": {
        "id": "zSKOOn1IfhkP",
        "colab_type": "text"
      },
      "source": [
        ""
      ]
    },
    {
      "cell_type": "markdown",
      "metadata": {
        "id": "ZSnTggqUfimt",
        "colab_type": "text"
      },
      "source": [
        "# Zadania do realizacji\n",
        "\n",
        "1. Zrobic pelna liste pojazdow i wyswietlic w kolejności malejącej oraz rosnącej\n",
        "\n",
        "2. Na podstawie przykładów zrobić sktypt, który będzie zliczał krotność wyrazów występujących w pliku przy czym wyraz musi mieć co najmniej 3 znaki\n",
        "\n",
        "2. Na podstawie przykładów zrobić sktypt, który będzie zliczał krotność zwierząt z tej samej gromady\n"
      ]
    }
  ]
}
