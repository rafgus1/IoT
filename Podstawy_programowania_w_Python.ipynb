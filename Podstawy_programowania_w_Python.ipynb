{
  "nbformat": 4,
  "nbformat_minor": 0,
  "metadata": {
    "kernelspec": {
      "display_name": "Python 3",
      "language": "python",
      "name": "python3"
    },
    "language_info": {
      "codemirror_mode": {
        "name": "ipython",
        "version": 3
      },
      "file_extension": ".py",
      "mimetype": "text/x-python",
      "name": "python",
      "nbconvert_exporter": "python",
      "pygments_lexer": "ipython3",
      "version": "3.6.8"
    },
    "colab": {
      "name": "Podstawy programowania w Python.ipynb",
      "provenance": [],
      "include_colab_link": true
    }
  },
  "cells": [
    {
      "cell_type": "markdown",
      "metadata": {
        "id": "view-in-github",
        "colab_type": "text"
      },
      "source": [
        "<a href=\"https://colab.research.google.com/github/rafgus1/IoT/blob/ZSE/Podstawy_programowania_w_Python.ipynb\" target=\"_parent\"><img src=\"https://colab.research.google.com/assets/colab-badge.svg\" alt=\"Open In Colab\"/></a>"
      ]
    },
    {
      "cell_type": "markdown",
      "metadata": {
        "id": "m7S7ERNMQK8y",
        "colab_type": "text"
      },
      "source": [
        "# Wprowadzenie do programowania w Python\n",
        "\n",
        "Standardowym programem pisanym w nowym środowisku jest \"Hello World!\", którego jedynym zadaniem jest wypisanie na ekranie komputera. Do wypisywania ciągów znaków na ekranie wykorzystywane jest polecenie print. Odpowiedni kod przyjmuje więc postać:"
      ]
    },
    {
      "cell_type": "code",
      "metadata": {
        "id": "v6ZsktvnQK8z",
        "colab_type": "code",
        "colab": {
          "base_uri": "https://localhost:8080/",
          "height": 34
        },
        "outputId": "6a745d20-3bb6-43b8-9569-453d309a646d"
      },
      "source": [
        "print(\"Witaj IoT!\")"
      ],
      "execution_count": 1,
      "outputs": [
        {
          "output_type": "stream",
          "text": [
            "Witaj IoT!\n"
          ],
          "name": "stdout"
        }
      ]
    },
    {
      "cell_type": "markdown",
      "metadata": {
        "id": "nfWHecSFQK84",
        "colab_type": "text"
      },
      "source": [
        "Uwagi:\n",
        "* Python jako jeden z niewielu języków programowania nie potrzebuje zakończenia linijki znakiem średnika. Jego umieszczenie nie jest błędem, ale flagowane jako coś do usunięcia.\n",
        "* Komenda print nie może być odsunięta od lewej krawędzi pliku ani spacją ani znakiem tabulatora."
      ]
    },
    {
      "cell_type": "markdown",
      "metadata": {
        "id": "9vnk-GvrQK85",
        "colab_type": "text"
      },
      "source": [
        "## Łańcuchy znaków\n",
        "Pierwszym poznanym dla nas typem danych będzie łańcuch znaków (String). W Pythonie występują aż 4 sposoby na ich tworzenie \n",
        "\n"
      ]
    },
    {
      "cell_type": "code",
      "metadata": {
        "id": "kr7ne1vCQK85",
        "colab_type": "code",
        "colab": {
          "base_uri": "https://localhost:8080/",
          "height": 87
        },
        "outputId": "379523b4-59a4-4fb1-b2b1-650a967bdd0c"
      },
      "source": [
        "print(\"Witaj świecie!\")\n",
        "print('Witaj świecie!')\n",
        "print('''Witaj świecie!''')\n",
        "print(\"\"\"Witaj świecie!\"\"\")"
      ],
      "execution_count": 2,
      "outputs": [
        {
          "output_type": "stream",
          "text": [
            "Witaj świecie!\n",
            "Witaj świecie!\n",
            "Witaj świecie!\n",
            "Witaj świecie!\n"
          ],
          "name": "stdout"
        }
      ]
    },
    {
      "cell_type": "markdown",
      "metadata": {
        "id": "dQ1sOkh1QK88",
        "colab_type": "text"
      },
      "source": [
        "* Obowiązuje zasada, że znak który otwierał łańcuch musi go zamknąć. Stąd w łańcuchach tworzonych przed \"\" można np. umieścić ' bez obawy o to że uszkodzą skrypt\n",
        "* Rezerwuje się znak \"\"\" jako znak komentarza dokumentującego i stąd nie zaleca się go tworzenia słów\n",
        "* Potrójne cudzysłowy można używać do tekstów zajmujących wiele linijek kodu"
      ]
    },
    {
      "cell_type": "markdown",
      "metadata": {
        "id": "IeHGSIy0QK89",
        "colab_type": "text"
      },
      "source": [
        "### Konkatencja\n",
        "\n",
        "Konkatencją nazywaną operację łączenia dwóch lub więcej ciągów znaków w pojedynczy ciąg znaków.\n",
        "Przyjrzyjmy się: dwóch linijkom kodu\n"
      ]
    },
    {
      "cell_type": "code",
      "metadata": {
        "id": "nRgW0NpVQK8-",
        "colab_type": "code",
        "colab": {
          "base_uri": "https://localhost:8080/",
          "height": 52
        },
        "outputId": "ed25c4dd-f890-46da-f5a8-8903f4833223"
      },
      "source": [
        "print(\"Witaj\",\"świecie!\")\n",
        "print(\"Witaj\"+\"świecie!\")"
      ],
      "execution_count": 3,
      "outputs": [
        {
          "output_type": "stream",
          "text": [
            "Witaj świecie!\n",
            "Witajświecie!\n"
          ],
          "name": "stdout"
        }
      ]
    },
    {
      "cell_type": "markdown",
      "metadata": {
        "id": "mK51QihkQK9A",
        "colab_type": "text"
      },
      "source": [
        "* Operacja pierwsza, nie przeprowadza konkatenacji. Pokazuje natomiast, że można przekazać wiele parametrów do funkcji print celem wyświetlenia.\n",
        "* Operacja druga wykonuje konkatenacje dwóch łańcuchów (operator+) i przekazuje do funkcji print pojedynczy parametr."
      ]
    },
    {
      "cell_type": "markdown",
      "metadata": {
        "id": "XORPCSawQK9B",
        "colab_type": "text"
      },
      "source": [
        "## Komentarze\n",
        "\n",
        "Praca z programowaniem jest znacznie prostsza kiedy w skrypcie występują odpowiednie komentarze. W Pythonie mamy dwa rodzaje komentarzy:\n",
        "\n",
        "* Komentarz linijkowy rozpoczynany znakiem #\n",
        "* Komentarz wielolinijkowy (dokumentujący) ograniczany przez \"\"\" "
      ]
    },
    {
      "cell_type": "code",
      "metadata": {
        "id": "DhWYJD0XQK9C",
        "colab_type": "code",
        "colab": {
          "base_uri": "https://localhost:8080/",
          "height": 34
        },
        "outputId": "73593e18-a5ad-4413-c6f8-ee33b393a52a"
      },
      "source": [
        "# to jest komentarz\n",
        "\n",
        "\"\"\"\n",
        "To jest komentarz wielolinijkowy\n",
        "\"\"\""
      ],
      "execution_count": 4,
      "outputs": [
        {
          "output_type": "execute_result",
          "data": {
            "text/plain": [
              "'\\nTo jest komentarz wielolinijkowy\\n'"
            ]
          },
          "metadata": {
            "tags": []
          },
          "execution_count": 4
        }
      ]
    },
    {
      "cell_type": "markdown",
      "metadata": {
        "id": "_C_GMuQAQK9E",
        "colab_type": "text"
      },
      "source": [
        "## Zmienne\n",
        "\n",
        "* Zmienne w Python podlegają tzw. leniwej inicjalizacji. Tzn. odpowiednia pamięć jest rezerwowana dopiera w chwili wywołania przypisania. O zmiennych w Pythonie można myśleć jak o etykietach do których mogą być przypisane twory dowolnych typów.\n",
        "* Nie ma zatem potrzeby deklarowania typu dla zmiennych, jak np. w Javie czy C++. Nie oznacza to jednak, że Python nie ochrania zmiennych przed próbami zmiany typów. Typy są pilnowanen tylko z programisty został zdjęty obowiązek jawnego ich ogłoszenia. Przypomina to po części mechanizm auto z języka C++, ale naprawdę jego budowa jest zdecydowanie inna (gdyż auto tworzy zmienne w pamięci operacyjnej, natomiast przypisania w pythonie dotyczą jedynie etykiet.\n",
        "* Tak jak w większości języków programowania do tworzenia zmiennych używany jest operator= czyli tzw. operator przypisania.\n"
      ]
    },
    {
      "cell_type": "code",
      "metadata": {
        "id": "YsvJ21nUQK9F",
        "colab_type": "code",
        "colab": {
          "base_uri": "https://localhost:8080/",
          "height": 34
        },
        "outputId": "96a950c5-9d66-4472-e9e0-92c131f873f9"
      },
      "source": [
        "x=3\n",
        "y=4\n",
        "print(x,\"+\",y,\"=\",x+y)"
      ],
      "execution_count": 5,
      "outputs": [
        {
          "output_type": "stream",
          "text": [
            "3 + 4 = 7\n"
          ],
          "name": "stdout"
        }
      ]
    },
    {
      "cell_type": "markdown",
      "metadata": {
        "id": "RId_D5C-QK9H",
        "colab_type": "text"
      },
      "source": [
        "## Rzutowanie zmiennych\n",
        "\n",
        "Możliwa jest bardzo prosta zmiana typu danych dla typów podstawowych. Wystarczy odnosić się po prostu do typów w połączeniu z operatorem (), tj. operacjami\n",
        "\n",
        "* int()\n",
        "* float()\n",
        "* str()"
      ]
    },
    {
      "cell_type": "code",
      "metadata": {
        "id": "JQWxuDcLQK9I",
        "colab_type": "code",
        "colab": {
          "base_uri": "https://localhost:8080/",
          "height": 34
        },
        "outputId": "19e9bb66-8c45-479f-8f34-9e0803ffc723"
      },
      "source": [
        "x = 3.14\n",
        "calkowity_x = int(x)\n",
        "print(calkowity_x)"
      ],
      "execution_count": 6,
      "outputs": [
        {
          "output_type": "stream",
          "text": [
            "3\n"
          ],
          "name": "stdout"
        }
      ]
    },
    {
      "cell_type": "markdown",
      "metadata": {
        "id": "FwZRSFLgQK9L",
        "colab_type": "text"
      },
      "source": [
        "## Podstawowe kolekcje\n",
        "\n",
        "Częściej od zmiennych przechowujących pojedyncze dane potrzebować będziemy struktur przechowujących duże ich zbiory tj. kolekcje.\n",
        "\n",
        "W Pythonie występują 3 podstawowe kolekcje\n",
        "\n",
        "* Krotki - odpowiedniki tablic, ale bez ograniczeń typowych\n",
        "* Listy - rozszerzalne struktury dynamicznie\n",
        "* Słowniki - tablice asocjacyjne, mapy.\n"
      ]
    },
    {
      "cell_type": "markdown",
      "metadata": {
        "id": "BxE59-I6QK9M",
        "colab_type": "text"
      },
      "source": [
        "### Krotki\n",
        "\n",
        "Krotki uzyskujemy grupując kilka zmiennych z wykorzystaniem nawiasu i przecinka jako symbolu rozdzialającego\n",
        "\n"
      ]
    },
    {
      "cell_type": "code",
      "metadata": {
        "id": "FbrHjxgwQK9N",
        "colab_type": "code",
        "colab": {}
      },
      "source": [
        "x = \"Witaj\"\n",
        "y = \"Świecie\"\n",
        "krotka= (x, y)"
      ],
      "execution_count": 0,
      "outputs": []
    },
    {
      "cell_type": "code",
      "metadata": {
        "id": "-AzU2U06QK9Q",
        "colab_type": "code",
        "colab": {
          "base_uri": "https://localhost:8080/",
          "height": 34
        },
        "outputId": "59e65853-4d36-4a3e-8b7c-32bc6dd72d9c"
      },
      "source": [
        "print(krotka)"
      ],
      "execution_count": 8,
      "outputs": [
        {
          "output_type": "stream",
          "text": [
            "('Witaj', 'Świecie')\n"
          ],
          "name": "stdout"
        }
      ]
    },
    {
      "cell_type": "markdown",
      "metadata": {
        "id": "QZOO0Av1QK9V",
        "colab_type": "text"
      },
      "source": [
        "Krotki są tworą niezmienniczymi (Immutable). Nie można zmodyfikować składowych krotek. Ich przetwarzanie pozwala jedynie na kopiowanie poszczególnych składowych.\n",
        "\n",
        "Do uzyskania dostępu do składowych wykorzystywany jest operator$[]$. W nawias wprowadzane są interesujące nas indeksy. Tablice w Pythonie numerowane są od 0 w górę. Można również odnosić się do tablic w numeracji od końca z wykorzystaniem indeksów ujemnych (-1,-2,...). Oraz zakresów  "
      ]
    },
    {
      "cell_type": "code",
      "metadata": {
        "id": "x21yAeg2QK9W",
        "colab_type": "code",
        "colab": {
          "base_uri": "https://localhost:8080/",
          "height": 87
        },
        "outputId": "b6f1e05a-6bcc-448e-f865-e645a4721a7c"
      },
      "source": [
        "x=\"Witaj\"\n",
        "y=\"Świecie\"\n",
        "krotka=(x,y,x,y,x,x,y)\n",
        "print(krotka[1]) \n",
        "print(krotka[-2])\n",
        "print(krotka[0:3])\n",
        "print(krotka[:]) #kopia całej krotki\n",
        "#krotka[2]=\"Slonce\" #błąd krotka jest niezmiennicza"
      ],
      "execution_count": 9,
      "outputs": [
        {
          "output_type": "stream",
          "text": [
            "Świecie\n",
            "Witaj\n",
            "('Witaj', 'Świecie', 'Witaj')\n",
            "('Witaj', 'Świecie', 'Witaj', 'Świecie', 'Witaj', 'Witaj', 'Świecie')\n"
          ],
          "name": "stdout"
        }
      ]
    },
    {
      "cell_type": "markdown",
      "metadata": {
        "id": "sc4s7Fr9QK9Y",
        "colab_type": "text"
      },
      "source": [
        "### Listy\n",
        "\n",
        "Listy to dynamicznie rozszerzalne tablice. Można je tworzyć poprzez nawiasy $[]$\n",
        "\n"
      ]
    },
    {
      "cell_type": "code",
      "metadata": {
        "id": "6gHSYA9XQK9Z",
        "colab_type": "code",
        "colab": {}
      },
      "source": [
        "x= \"Witaj\"\n",
        "y= \"Świecie\"\n",
        "lista= [x,y]\n",
        "pusta_lista = []"
      ],
      "execution_count": 0,
      "outputs": []
    },
    {
      "cell_type": "markdown",
      "metadata": {
        "id": "d3346BZSQK9b",
        "colab_type": "text"
      },
      "source": [
        "Listy są rozszerzalne i zmiennicze (mutable). Można wstawiać, zmieniać i usuwać jej elementy; Dostęp uzyskujemy analogicznie jak w przypadku krotek\n"
      ]
    },
    {
      "cell_type": "code",
      "metadata": {
        "id": "Xgu2fKGxQK9b",
        "colab_type": "code",
        "colab": {
          "base_uri": "https://localhost:8080/",
          "height": 34
        },
        "outputId": "1d7f30fa-eb92-4eb0-9cff-b8fc05270271"
      },
      "source": [
        "lista.append('jesteś wspaniały')\n",
        "print(lista)"
      ],
      "execution_count": 11,
      "outputs": [
        {
          "output_type": "stream",
          "text": [
            "['Witaj', 'Świecie', 'jesteś wspaniały']\n"
          ],
          "name": "stdout"
        }
      ]
    },
    {
      "cell_type": "code",
      "metadata": {
        "id": "PvQT-XO0QK9e",
        "colab_type": "code",
        "colab": {
          "base_uri": "https://localhost:8080/",
          "height": 34
        },
        "outputId": "af24e8a1-736a-4eea-f71c-3404457804f9"
      },
      "source": [
        "lista[1] ='mój świecie'\n",
        "print(lista)"
      ],
      "execution_count": 12,
      "outputs": [
        {
          "output_type": "stream",
          "text": [
            "['Witaj', 'mój świecie', 'jesteś wspaniały']\n"
          ],
          "name": "stdout"
        }
      ]
    },
    {
      "cell_type": "markdown",
      "metadata": {
        "id": "wlQiYamdQK9g",
        "colab_type": "text"
      },
      "source": [
        "### Słowniki\n",
        "Słowniki są odpowiednikami map, nazywamy również tablicami asocjacyjnymi. Pozwalają przechowywać przypisane do siebie argumenty i wartości na zasadach klucz : wartość. Wytwarzamy je z wykorzystaniem nawiasów {} rozdzielając klucze i wartości symbolem :"
      ]
    },
    {
      "cell_type": "code",
      "metadata": {
        "id": "WuRpw8M7QK9g",
        "colab_type": "code",
        "colab": {
          "base_uri": "https://localhost:8080/",
          "height": 34
        },
        "outputId": "69766da1-6ad6-44fa-e9f3-076c4e863eef"
      },
      "source": [
        "slownik = { \"koń\": \"horse\", \"pies\": \"dog\", \"matematyka\": \"mathematics\" }\n",
        "print(slownik[\"matematyka\"])"
      ],
      "execution_count": 13,
      "outputs": [
        {
          "output_type": "stream",
          "text": [
            "mathematics\n"
          ],
          "name": "stdout"
        }
      ]
    },
    {
      "cell_type": "markdown",
      "metadata": {
        "id": "Kdvb56uHQK9j",
        "colab_type": "text"
      },
      "source": [
        "# Komendy sterujące \n",
        "\n",
        "## Bloki kodu\n",
        "\n",
        "Wspominane było, że linie kodu nie mogą być poprzedzone znakiem spacji czy tabulatora. Wyjaśnimy czemu do tej pory tak musiało być. Powodem są bloki kodu\n",
        "\n",
        "Blokiem kodu nazywamy ciągi instrukcji posiadających własną przestrzeń nazw (dodatkową) wyszczególnioną w specjalny sposób.\n",
        "\n",
        "Bloki kodu są np. wykonywane w instrukcjach warunkowych czy pętlach. W javie czy c++ np.\n",
        "```cpp\n",
        "if (warunek) {\n",
        "   \\\\Blok instrukcji\n",
        "   czynnosc1();\n",
        "   czynnosc2();\n",
        "}\n",
        "```\n",
        "Najcześciej spotykane w programowaniu jest grupowanie bloków z wykorzystaniem nawiasów klamrowych. Oprócz tego wszyscy programiści zalecali robienie wcięć dla instrukcji w bloku - aby wyszczególnić jednakowe przestrzenie nazw i odróżniać instrukcje warunkowe od ogólnych, powtarzane od jednokrotnych.\n",
        "\n",
        "Twórcy Pythona dostrzegli w tym nadmiarowość formy. Zdecydowali się odrzucić klamry. W ten sposób bloki kodu określane są na podstawie **wcięć kodu**.\n",
        "\n",
        "Jak wygląda praca z tymi wcięciami przekonamy się już za chwilę:\n",
        "\n",
        "Miejsca gdzie występują bloki kodu:\n",
        "* Instrukcje warunkowe\n",
        "* Pętle\n",
        "* Funkcje\n",
        "* Implementacje klas\n",
        "* Bloki with\n",
        "\n"
      ]
    },
    {
      "cell_type": "markdown",
      "metadata": {
        "id": "mmcWYio9QK9j",
        "colab_type": "text"
      },
      "source": [
        "## Instrukcja warunkowa IF\n",
        "\n",
        "Podstawową instrukcją warunkową w Pythonie jest if-elif-else. Podobnie jak w innych technologiach programistycznych, bloki elif i else można pomijać. Ogólna postać takiej instrukcji wygląda następująco:\n",
        "```python\n",
        "if warunek1:\n",
        "    #czynnosc1\n",
        "elif warunek2:\n",
        "    #czynnosc2\n",
        "else:\n",
        "    #czynnosc3\n",
        "```\n",
        "Np:\n"
      ]
    },
    {
      "cell_type": "code",
      "metadata": {
        "id": "pqw2qqIWQK9k",
        "colab_type": "code",
        "colab": {
          "base_uri": "https://localhost:8080/",
          "height": 52
        },
        "outputId": "f4c16e82-2fe0-41a4-fce0-e117bece4a06"
      },
      "source": [
        "x = 5\n",
        "if x % 2 == 1:\n",
        "    print('X jest liczbą nieparzystą')\n",
        "else:\n",
        "    print('X jest liczbą parzystą')\n",
        "print('Tu blok już się zakończył i wykonuje się on niezależnie od wartości sprawdzanego warunku')"
      ],
      "execution_count": 14,
      "outputs": [
        {
          "output_type": "stream",
          "text": [
            "X jest liczbą nieparzystą\n",
            "Tu blok już się zakończył i wykonuje się on niezależnie od wartości sprawdzanego warunku\n"
          ],
          "name": "stdout"
        }
      ]
    },
    {
      "cell_type": "markdown",
      "metadata": {
        "id": "Dw_Xjre4QK9n",
        "colab_type": "text"
      },
      "source": [
        "* Instrukcja warunkowa musi mieć blok if\n",
        "* Instrukcja może mieć najwyżej jeden blok else,\n",
        "* Instrukcja może mieć dowolną ilość bloków elif\n",
        "* Koniec wcięcia oznacza koniec bloku,\n",
        "* Linijka początkowa bloku musi kończyć się znakiem :"
      ]
    },
    {
      "cell_type": "markdown",
      "metadata": {
        "id": "AHBA8n1YQK9o",
        "colab_type": "text"
      },
      "source": [
        "## IF połączone z IN\n",
        "\n",
        "Z instrukcją if możemy łatwo sprawdzać czy element występuje we wskazanej a wcześniej poznanej kolekcji. Np. czy ciąg znaków zawiera daną literę:\n"
      ]
    },
    {
      "cell_type": "code",
      "metadata": {
        "id": "gnyCIy97QK9p",
        "colab_type": "code",
        "colab": {
          "base_uri": "https://localhost:8080/",
          "height": 52
        },
        "outputId": "63138d58-c56d-43c7-bc89-4432bbf87e40"
      },
      "source": [
        "zdanie = \"Ala ma kota!\"\n",
        "if \"k\" in zdanie:\n",
        "    print(\"Zdanie ma literke k\")\n",
        "if \"kot\" in zdanie:\n",
        "    print(\"Zdanie ma kota!\")"
      ],
      "execution_count": 15,
      "outputs": [
        {
          "output_type": "stream",
          "text": [
            "Zdanie ma literke k\n",
            "Zdanie ma kota!\n"
          ],
          "name": "stdout"
        }
      ]
    },
    {
      "cell_type": "markdown",
      "metadata": {
        "id": "CsYMfIxpQK9t",
        "colab_type": "text"
      },
      "source": [
        "## Pętle For\n",
        "\n",
        "Język Python wspiera również wykonywanie powtarzalnych obliczeń z wykorzystaniem konstrukcji pętli. Najczęściej do realizacji powtórzeń w Pythonie stosowana jest pętla for \n",
        "\n",
        "* wykorzystująca kolekcje:\n",
        "for element in lista:\n",
        "    #blok instrukcji\n",
        "* wykorzystująca licznik:\n",
        "for i in range(begin,end,step):\n",
        "    #blok instrukcji\n"
      ]
    },
    {
      "cell_type": "code",
      "metadata": {
        "id": "nloQzWs6QK9u",
        "colab_type": "code",
        "colab": {
          "base_uri": "https://localhost:8080/",
          "height": 158
        },
        "outputId": "52da967d-f236-49bb-fef5-ca7c4dcc34e7"
      },
      "source": [
        "lista = ['raz', 'dwa', 'trzy']\n",
        "for element in lista:\n",
        "    print('Teraz kolej na', element)\n",
        "\n",
        "for i in range(0,10,2):\n",
        "    print('Kolejna liczba to ',i)"
      ],
      "execution_count": 16,
      "outputs": [
        {
          "output_type": "stream",
          "text": [
            "Teraz kolej na raz\n",
            "Teraz kolej na dwa\n",
            "Teraz kolej na trzy\n",
            "Kolejna liczba to  0\n",
            "Kolejna liczba to  2\n",
            "Kolejna liczba to  4\n",
            "Kolejna liczba to  6\n",
            "Kolejna liczba to  8\n"
          ],
          "name": "stdout"
        }
      ]
    },
    {
      "cell_type": "markdown",
      "metadata": {
        "id": "L0RtL2WLQK9x",
        "colab_type": "text"
      },
      "source": [
        "## Pętle while\n",
        "\n",
        "Czasem spotykamy również inny rodzaj pętli - pętle while\n",
        "\n",
        "```python\n",
        "while warunek:\n",
        "    #blok kodu\n",
        "```"
      ]
    },
    {
      "cell_type": "code",
      "metadata": {
        "id": "Ne2Nv5bDQK9x",
        "colab_type": "code",
        "colab": {
          "base_uri": "https://localhost:8080/",
          "height": 210
        },
        "outputId": "ecbddb02-fede-416d-caab-603502ff47b4"
      },
      "source": [
        "i = 0\n",
        "while i <= 10:\n",
        "    i += 1\n",
        "    print('Obecna wartosc to ', i)"
      ],
      "execution_count": 17,
      "outputs": [
        {
          "output_type": "stream",
          "text": [
            "Obecna wartosc to  1\n",
            "Obecna wartosc to  2\n",
            "Obecna wartosc to  3\n",
            "Obecna wartosc to  4\n",
            "Obecna wartosc to  5\n",
            "Obecna wartosc to  6\n",
            "Obecna wartosc to  7\n",
            "Obecna wartosc to  8\n",
            "Obecna wartosc to  9\n",
            "Obecna wartosc to  10\n",
            "Obecna wartosc to  11\n"
          ],
          "name": "stdout"
        }
      ]
    },
    {
      "cell_type": "markdown",
      "metadata": {
        "id": "BvDLBRDfQK90",
        "colab_type": "text"
      },
      "source": [
        "Najczęściej jest ona wykorzystywana razem z komendami break i continue\n",
        "\n",
        "* break - powoduje przerwanie działania petli i opuszczenie jej całkowicie\n",
        "* continue - powoduje natychmiastowe przejście do wykonywania następnej petli\n"
      ]
    },
    {
      "cell_type": "code",
      "metadata": {
        "id": "NFPa9QrnQK90",
        "colab_type": "code",
        "colab": {
          "base_uri": "https://localhost:8080/",
          "height": 228
        },
        "outputId": "8b48d04a-c3f9-47ef-f4ec-1284abca0107"
      },
      "source": [
        "i = 0\n",
        "while True:\n",
        "    i += 1\n",
        "    if (i % 7 == 0): \n",
        "        continue\n",
        "    if (i >= 15):\n",
        "        break\n",
        "    print('Przetwarzam ', i)"
      ],
      "execution_count": 18,
      "outputs": [
        {
          "output_type": "stream",
          "text": [
            "Przetwarzam  1\n",
            "Przetwarzam  2\n",
            "Przetwarzam  3\n",
            "Przetwarzam  4\n",
            "Przetwarzam  5\n",
            "Przetwarzam  6\n",
            "Przetwarzam  8\n",
            "Przetwarzam  9\n",
            "Przetwarzam  10\n",
            "Przetwarzam  11\n",
            "Przetwarzam  12\n",
            "Przetwarzam  13\n"
          ],
          "name": "stdout"
        }
      ]
    },
    {
      "cell_type": "markdown",
      "metadata": {
        "id": "rrKs-v6LQK93",
        "colab_type": "text"
      },
      "source": [
        "# Funkcje\n",
        "\n",
        "Python pozwala w sposób dość swobodny tworzyć funkcje. Zanim jednak utworzymy pierwszą kilka uwag o zasadach ich tworzenia:\n",
        "\n",
        "* W odróżnieniu od wielu języków programowania w Pythonie nie ma możliwości przeciążania funkcji. W danej przestrzeni nazw może występować tylko raz nazwa danej funkcji\n",
        "* Parametry z wartością domyślną muszą być podane na końcu\n",
        "* Funkcje poprzedzone są słowem kluczowym def\n",
        "* Python wspiera funkcje lambda (* więcej o nich w części rozszerzonej)\n"
      ]
    },
    {
      "cell_type": "code",
      "metadata": {
        "id": "4W6F1LcXQK94",
        "colab_type": "code",
        "colab": {}
      },
      "source": [
        "def moja_funkcja(x, parametry):\n",
        "    \"\"\"\n",
        "    Komentarz o funkcji\n",
        "    \"\"\"\n",
        "    return x+1"
      ],
      "execution_count": 0,
      "outputs": []
    },
    {
      "cell_type": "code",
      "metadata": {
        "id": "gyz-CjmGQK96",
        "colab_type": "code",
        "colab": {
          "base_uri": "https://localhost:8080/",
          "height": 34
        },
        "outputId": "e5fc7938-5363-4318-b041-f30a4ae7bef3"
      },
      "source": [
        "print(moja_funkcja(1,0))"
      ],
      "execution_count": 20,
      "outputs": [
        {
          "output_type": "stream",
          "text": [
            "2\n"
          ],
          "name": "stdout"
        }
      ]
    },
    {
      "cell_type": "markdown",
      "metadata": {
        "id": "64Z7cvtXQK99",
        "colab_type": "text"
      },
      "source": [
        "## Funkcje zwracające krotki \n",
        "\n",
        "W pythonie wreszcie został wprowadzony sprawny mechanizm automated-unboxing. Pozwala on na łatwy i czytelny na zwracanie więcej niż jednej wartości. Mechanizm wymaga jednak aby zawsze zwrócone były wszystkie elementy wyniku funkcji (oraz przyjęte)\n",
        "\n",
        "\n"
      ]
    },
    {
      "cell_type": "code",
      "metadata": {
        "id": "U-rR4n7LQK99",
        "colab_type": "code",
        "colab": {
          "base_uri": "https://localhost:8080/",
          "height": 52
        },
        "outputId": "687ba1df-4a55-4eba-903e-915f3b35adc4"
      },
      "source": [
        "def moja_funkcja():\n",
        "    x=\"Zmienna 1 ma wartosc\"\n",
        "    y=3\n",
        "    return x, y\n",
        "\n",
        "#krotka = moja_funkcja() # tak można już było wcześniej\n",
        "#a = krotka[0]\n",
        "#b = krotka[1]\n",
        "a, b = moja_funkcja() # a tak dopiero w Pythonie\n",
        "print('A wynosi', a)\n",
        "print('B wynosi', b)"
      ],
      "execution_count": 21,
      "outputs": [
        {
          "output_type": "stream",
          "text": [
            "A wynosi Zmienna 1 ma wartosc\n",
            "B wynosi 3\n"
          ],
          "name": "stdout"
        }
      ]
    },
    {
      "cell_type": "markdown",
      "metadata": {
        "id": "zlUwxmzPQK-A",
        "colab_type": "text"
      },
      "source": [
        "# Operatory\n",
        "\n",
        "W Pythonie najprostszymi funkcjami są operatory. Czyli akcje wykonywane przez Python w odpowiedzi na znaki +,- oraz podobne. W Pythonie istnieją następujące grupy operatorów\n",
        "\n",
        "* arytmetryczne,\n",
        "* relacyjne (porównawcze),\n",
        "* logiczne,\n",
        "* bitowe,\n",
        "* przypisania,\n",
        "* identycznościowe,\n",
        "* przynależności.\n",
        "\n",
        "## Operatory arytmetyczne \n",
        "\n",
        "Do operatorów zaliczamy \n",
        "\n",
        "* dodawanie '+'\n",
        "* odejmowanie '-'\n",
        "* mnożenie '*'\n",
        "* dzielenie '/'\n",
        "* dzielenie modulo '%'\n",
        "* potęgę '**'\n",
        "* dzielenie całkowitoliczbowe '//'\n",
        "\n",
        "Do najciekawszego do zaprezentowania tu jest różnica pomiędzy dwoma rodzajami dzieleń. W znacznej większości języków programowania operatory zwracaja zawsze typ zgodny z operandami. W efekcie zdarza się, że programista bywa czasem zaskoczony działaniem swojego programu. Np. w C++\n",
        "\n",
        "```cpp\n",
        "int x = 3;\n",
        "int y = 2;\n",
        "cout << x/y;\n",
        "```\n",
        "\n",
        "zwróciło by jako wynik $1$. Twórcy Pythona uznali, że warto złamać zasadę o zgodności typów wyniku i operandu - bo w większości przypadków dla powyższego kodu programista spodziewałby się otrzymać 1.5. Istotnie\n",
        "\n"
      ]
    },
    {
      "cell_type": "code",
      "metadata": {
        "id": "HqQ41syhQK-B",
        "colab_type": "code",
        "colab": {
          "base_uri": "https://localhost:8080/",
          "height": 52
        },
        "outputId": "f1984890-7cc6-4f18-f80d-486527c8c6a8"
      },
      "source": [
        "x = int(3)\n",
        "y= int(2)\n",
        "wynik = x/y\n",
        "print(wynik)\n",
        "print(type(wynik))"
      ],
      "execution_count": 22,
      "outputs": [
        {
          "output_type": "stream",
          "text": [
            "1.5\n",
            "<class 'float'>\n"
          ],
          "name": "stdout"
        }
      ]
    },
    {
      "cell_type": "markdown",
      "metadata": {
        "id": "B6TcL63jQK-E",
        "colab_type": "text"
      },
      "source": [
        "Jednak aby osługiwać pryzpadki w których programiście właśnie na uzyskaniu wyniku całkowitoliczbowego zależało - dodano kolejny operator '//'. "
      ]
    },
    {
      "cell_type": "code",
      "metadata": {
        "id": "3owkFtneQK-E",
        "colab_type": "code",
        "colab": {
          "base_uri": "https://localhost:8080/",
          "height": 34
        },
        "outputId": "ef2d21f1-43da-4878-df9b-c2eaea3f49d9"
      },
      "source": [
        "print(x//y)"
      ],
      "execution_count": 23,
      "outputs": [
        {
          "output_type": "stream",
          "text": [
            "1\n"
          ],
          "name": "stdout"
        }
      ]
    },
    {
      "cell_type": "markdown",
      "metadata": {
        "id": "z8o1AzwbQK-H",
        "colab_type": "text"
      },
      "source": [
        "## Operatory relacyjne\n",
        "\n",
        "Wśród operatorów relacyjnych wyróżniamy\n",
        "\n",
        "* równość '=='\n",
        "* nierówność '!='\n",
        "* mniejsze oraz większe ('<' i '>')\n",
        "* mniejsze lub równe oraz większe lub równe ('<=' i '>=')\n"
      ]
    },
    {
      "cell_type": "code",
      "metadata": {
        "id": "G4PFmPVHQK-I",
        "colab_type": "code",
        "colab": {
          "base_uri": "https://localhost:8080/",
          "height": 34
        },
        "outputId": "3cf22064-9316-424d-a4e4-78a1f7908aee"
      },
      "source": [
        "if 3 < 5:\n",
        "    print('3 jest mniejsze od 5')"
      ],
      "execution_count": 24,
      "outputs": [
        {
          "output_type": "stream",
          "text": [
            "3 jest mniejsze od 5\n"
          ],
          "name": "stdout"
        }
      ]
    },
    {
      "cell_type": "markdown",
      "metadata": {
        "id": "dA50YI8qQK-K",
        "colab_type": "text"
      },
      "source": [
        "Co ciekawe dopuszczalne są również (a niedostępne w innych językach programowania) następujące ciągi relacji"
      ]
    },
    {
      "cell_type": "code",
      "metadata": {
        "id": "sI60ypClQK-L",
        "colab_type": "code",
        "colab": {
          "base_uri": "https://localhost:8080/",
          "height": 34
        },
        "outputId": "3c76c409-8d20-4f26-d780-b8dd34a9d2ea"
      },
      "source": [
        "liczba = 4\n",
        "if 3 < liczba <= 5:\n",
        "    print('Liczba ta należy do przedziału (3,5]')"
      ],
      "execution_count": 25,
      "outputs": [
        {
          "output_type": "stream",
          "text": [
            "Liczba ta należy do przedziału (3,5]\n"
          ],
          "name": "stdout"
        }
      ]
    },
    {
      "cell_type": "markdown",
      "metadata": {
        "id": "Y2i2xvj9QK-N",
        "colab_type": "text"
      },
      "source": [
        "## Operatory logiczne\n",
        "\n",
        "Specjalna grupa operatorów jest zarezerwowana dla typów logicznych. Wyszczególniamy\n",
        "\n",
        "* logiczne i 'and',\n",
        "* logiczne lub 'or',\n",
        "* logiczne nie 'not'."
      ]
    },
    {
      "cell_type": "code",
      "metadata": {
        "id": "EKYIGJClQK-O",
        "colab_type": "code",
        "colab": {
          "base_uri": "https://localhost:8080/",
          "height": 34
        },
        "outputId": "ef6fcd97-3820-48e0-9beb-9bfcb19df26a"
      },
      "source": [
        "liczba = 14\n",
        "if liczba % 3 == 0 and liczba % 2 ==0 :\n",
        "    print('Liczba jest podzielna przez 3 oraz 2')\n",
        "else :\n",
        "    print('Liczba nie jest podzielna przez 3 oraz 2')"
      ],
      "execution_count": 26,
      "outputs": [
        {
          "output_type": "stream",
          "text": [
            "Liczba nie jest podzielna przez 3 oraz 2\n"
          ],
          "name": "stdout"
        }
      ]
    },
    {
      "cell_type": "markdown",
      "metadata": {
        "id": "1Gerh712QK-Q",
        "colab_type": "text"
      },
      "source": [
        "## Operatory bitowe\n",
        "\n",
        "Operatory bitowe są stosowane do pracy na bitowych reprezentacjach dla danych. Dla operatorów tych nie jest istotne jaki typ danych przekształcają gdyż zawsze pracują na ich bitowym zapisie.\n",
        "\n",
        "Operatorami takimi są \n",
        "\n",
        "* Bitowe i '&' - gdzie dany bit zostaje ustalony na 1 tylko jeśli oba operandy miały 1 na tym bicie\n",
        "* Bitowe lub '|' - gdzie dany bit zostaje ustalony na 1 tylko jeśli dowolny operand miał 1 na tym bicie\n",
        "* Bitowe xor '^' - gdzie dany bit zostaje ustalony na 1 tylko jeśli dokładnie jeden operand miał 1 na tym bicie\n",
        "* Bitowe not '~' - gdzie dany bit zostaje ustalony na 1 tylko jeśli operand (jedyny operand) miał 0 na tym bicie\n",
        "* Bitowe przesunięcie w lewo '<<' - gdzie bity są przesuwane zgodnie w reprezentacji na miejsca bardziej po lewo, bity wysunięte poza zakres są tracone, a od lewej strony reprezentacja jest uzupełniana zerami\n",
        "* Bitowe przesunięcie w prawo '>>' - gdzie bity są przesuwane zgodnie w reprezentacji na miejsca bardziej po prawo, bity wysunięte poza zakres są tracone, a od lewej strony reprezentacja jest uzupełniana zerami"
      ]
    },
    {
      "cell_type": "code",
      "metadata": {
        "id": "0V5Sb5vgQK-R",
        "colab_type": "code",
        "colab": {
          "base_uri": "https://localhost:8080/",
          "height": 34
        },
        "outputId": "4a778a55-ea07-41df-fecb-9aa8556848df"
      },
      "source": [
        "x = 0b0011 #tak można zadawać liczby w postaci dwójkowej\n",
        "y = 0b1110\n",
        "print('x ma wartość', x, 'y ma wartość', y)"
      ],
      "execution_count": 27,
      "outputs": [
        {
          "output_type": "stream",
          "text": [
            "x ma wartość 3 y ma wartość 14\n"
          ],
          "name": "stdout"
        }
      ]
    },
    {
      "cell_type": "code",
      "metadata": {
        "id": "Egmj6pEQQK-T",
        "colab_type": "code",
        "colab": {
          "base_uri": "https://localhost:8080/",
          "height": 34
        },
        "outputId": "39531a19-2e17-4b0d-eaa2-9da7db010419"
      },
      "source": [
        "z = x & y\n",
        "print('Wynik {0:{fill}4b}'.format(z,fill='0'))"
      ],
      "execution_count": 28,
      "outputs": [
        {
          "output_type": "stream",
          "text": [
            "Wynik 0010\n"
          ],
          "name": "stdout"
        }
      ]
    },
    {
      "cell_type": "markdown",
      "metadata": {
        "id": "PIL3FZFkQK-Z",
        "colab_type": "text"
      },
      "source": [
        "Zaprezentujemy jeszcze działanie przesuniecia"
      ]
    },
    {
      "cell_type": "code",
      "metadata": {
        "id": "j_uDERHxQK-Z",
        "colab_type": "code",
        "colab": {
          "base_uri": "https://localhost:8080/",
          "height": 34
        },
        "outputId": "d5dd8645-5912-4a7e-f713-0c4d8ecdc234"
      },
      "source": [
        "print('Wynik {0:{fill}4b}'.format(x<<1,fill='0'))"
      ],
      "execution_count": 29,
      "outputs": [
        {
          "output_type": "stream",
          "text": [
            "Wynik 0110\n"
          ],
          "name": "stdout"
        }
      ]
    },
    {
      "cell_type": "markdown",
      "metadata": {
        "id": "nzKi4iF7QK-d",
        "colab_type": "text"
      },
      "source": [
        "## Operatory przypisania \n",
        "\n",
        "Kolejną grupą operatorów są operatory przypisania. Do grupy tej zaliczamy\n",
        "\n",
        "* operator '=',\n",
        "* operatory przypisania arytmetycznego '+=', '-=', '*=', '/=', '%=', '//=', '**=',\n",
        "* operatory przypisania logicznego '&=', '|=', '^=',\n",
        "* operatory przypisania przesuniętego, '<<=' i '>>='\n",
        "\n",
        "Pierwszy operator służy do przypisania wartości do zmiennej\n",
        "\n",
        "```python\n",
        "zmienna = wartosc\n",
        "```\n",
        "\n",
        "Przede wszystkim nie należy pomylić operatora relacyjnej równości z tym operatorem. Pozostałe operatory mają łatwe do zrozumienia działanie. Widząc linijkę z operatorem \n",
        "```python \n",
        "zmienna ?= wartosc\n",
        "``` \n",
        "(? jest dowolnym z dopuszczalnych symboli) nalezy widzieć wykonanie następującej akcji \n",
        "```python\n",
        "zmienna = zmienna ? wartosc\n",
        "```\n",
        "I tak"
      ]
    },
    {
      "cell_type": "code",
      "metadata": {
        "id": "N_IiNYl2QK-d",
        "colab_type": "code",
        "colab": {
          "base_uri": "https://localhost:8080/",
          "height": 34
        },
        "outputId": "2a8509eb-1f07-4735-bfeb-99c03aed70a2"
      },
      "source": [
        "x = 5\n",
        "x += 3\n",
        "print(x)"
      ],
      "execution_count": 30,
      "outputs": [
        {
          "output_type": "stream",
          "text": [
            "8\n"
          ],
          "name": "stdout"
        }
      ]
    },
    {
      "cell_type": "markdown",
      "metadata": {
        "id": "UvK73mhFQK-f",
        "colab_type": "text"
      },
      "source": [
        "## Operatory identycznościowe\n",
        "\n",
        "Są operatorami mającymi za zadanie sprawdzić czy dany dwie etykiety przechowują ten sam lub nie ten sam obiekt. \n",
        "Operatorami tymi są \n",
        "* is\n",
        "* is not\n",
        "Sens prezentuje poniższy przykład"
      ]
    },
    {
      "cell_type": "code",
      "metadata": {
        "id": "ZYf09Sz9QK-g",
        "colab_type": "code",
        "colab": {
          "base_uri": "https://localhost:8080/",
          "height": 52
        },
        "outputId": "bad09414-0b68-483c-dc55-ede6ead2e8b3"
      },
      "source": [
        "a = [5]\n",
        "b = [5]\n",
        "if a is b:\n",
        "    print('To ten sam obiekt')\n",
        "else :\n",
        "    print('To różne obiekty')\n",
        "    \n",
        "if a == b:\n",
        "    print('Obiekty mają takie same wartości')"
      ],
      "execution_count": 31,
      "outputs": [
        {
          "output_type": "stream",
          "text": [
            "To różne obiekty\n",
            "Obiekty mają takie same wartości\n"
          ],
          "name": "stdout"
        }
      ]
    },
    {
      "cell_type": "code",
      "metadata": {
        "id": "FCrYxCTIQK-i",
        "colab_type": "code",
        "colab": {
          "base_uri": "https://localhost:8080/",
          "height": 52
        },
        "outputId": "68204f52-9371-4684-d479-3b4aea10b7e3"
      },
      "source": [
        "a = [5]\n",
        "b = a\n",
        "if a is b:\n",
        "    print('To ten sam obiekt')\n",
        "else :\n",
        "    print('To różne obiekty')\n",
        "    \n",
        "if a == b:\n",
        "    print('Obiekty mają takie same wartości')"
      ],
      "execution_count": 32,
      "outputs": [
        {
          "output_type": "stream",
          "text": [
            "To ten sam obiekt\n",
            "Obiekty mają takie same wartości\n"
          ],
          "name": "stdout"
        }
      ]
    },
    {
      "cell_type": "markdown",
      "metadata": {
        "id": "DfOT0sVpQK-l",
        "colab_type": "text"
      },
      "source": [
        "Co ciekawe rozpoznanie to nie działa na typach prostych"
      ]
    },
    {
      "cell_type": "code",
      "metadata": {
        "id": "2nSJZb1nQK-m",
        "colab_type": "code",
        "colab": {
          "base_uri": "https://localhost:8080/",
          "height": 34
        },
        "outputId": "415667fa-9842-4e53-fc67-f51a5222ab56"
      },
      "source": [
        "a = 5\n",
        "b = 5\n",
        "a is b"
      ],
      "execution_count": 33,
      "outputs": [
        {
          "output_type": "execute_result",
          "data": {
            "text/plain": [
              "True"
            ]
          },
          "metadata": {
            "tags": []
          },
          "execution_count": 33
        }
      ]
    },
    {
      "cell_type": "markdown",
      "metadata": {
        "id": "NaFB69uaQK-p",
        "colab_type": "text"
      },
      "source": [
        "Najczęściej jednak operatora tego stosuje się do kontroli typu"
      ]
    },
    {
      "cell_type": "code",
      "metadata": {
        "id": "3KyTfwlUQK-q",
        "colab_type": "code",
        "colab": {
          "base_uri": "https://localhost:8080/",
          "height": 34
        },
        "outputId": "29dafc85-fd7a-40b8-d9bd-f4edbf29dee5"
      },
      "source": [
        "a = 5\n",
        "type(a) is int"
      ],
      "execution_count": 34,
      "outputs": [
        {
          "output_type": "execute_result",
          "data": {
            "text/plain": [
              "True"
            ]
          },
          "metadata": {
            "tags": []
          },
          "execution_count": 34
        }
      ]
    },
    {
      "cell_type": "code",
      "metadata": {
        "id": "dqQCGjIEQK-s",
        "colab_type": "code",
        "colab": {
          "base_uri": "https://localhost:8080/",
          "height": 34
        },
        "outputId": "1b981e9e-01a8-45ea-a6ef-9d6b836331cc"
      },
      "source": [
        "type(a) is not str"
      ],
      "execution_count": 35,
      "outputs": [
        {
          "output_type": "execute_result",
          "data": {
            "text/plain": [
              "True"
            ]
          },
          "metadata": {
            "tags": []
          },
          "execution_count": 35
        }
      ]
    },
    {
      "cell_type": "markdown",
      "metadata": {
        "id": "aIUNvaffQK-u",
        "colab_type": "text"
      },
      "source": [
        "Często wykorzystuje się go do sprawdzenia czy dany obiekt został zainicjowany"
      ]
    },
    {
      "cell_type": "code",
      "metadata": {
        "id": "GqAxUjhjQK-u",
        "colab_type": "code",
        "colab": {
          "base_uri": "https://localhost:8080/",
          "height": 34
        },
        "outputId": "ccf5cb0e-a03c-457c-f02c-68e184cdee8b"
      },
      "source": [
        "a = None\n",
        "\n",
        "if a is None:\n",
        "    print('a jest niezainicjowane')\n",
        "else:\n",
        "    print('a jest zainicjowane')"
      ],
      "execution_count": 36,
      "outputs": [
        {
          "output_type": "stream",
          "text": [
            "a jest niezainicjowane\n"
          ],
          "name": "stdout"
        }
      ]
    },
    {
      "cell_type": "markdown",
      "metadata": {
        "id": "RahZLsedQK-w",
        "colab_type": "text"
      },
      "source": [
        "## Operatory przynależności\n",
        "\n",
        "Ostatnią grupą operatorów są te które weryfikują czy element należy do kolekcji. Są to dwa operatory\n",
        "* in \n",
        "* not in\n",
        "\n",
        "z klasycznymi przykładami"
      ]
    },
    {
      "cell_type": "code",
      "metadata": {
        "id": "KkEjvef4QK-w",
        "colab_type": "code",
        "colab": {
          "base_uri": "https://localhost:8080/",
          "height": 34
        },
        "outputId": "3edeb604-1c82-4043-dd9e-261acba0969d"
      },
      "source": [
        "zoo = ['lew', 'słoń', 'małpa']\n",
        "if 'kot' in zoo:\n",
        "    print('Zoo ma kota')\n",
        "else:\n",
        "    print('Zoo nie ma kota')"
      ],
      "execution_count": 37,
      "outputs": [
        {
          "output_type": "stream",
          "text": [
            "Zoo nie ma kota\n"
          ],
          "name": "stdout"
        }
      ]
    },
    {
      "cell_type": "markdown",
      "metadata": {
        "id": "UFVuxqirQK-0",
        "colab_type": "text"
      },
      "source": [
        "oraz"
      ]
    },
    {
      "cell_type": "code",
      "metadata": {
        "id": "S4Qawoa-QK-1",
        "colab_type": "code",
        "colab": {
          "base_uri": "https://localhost:8080/",
          "height": 34
        },
        "outputId": "5e32a4c6-3f26-4d31-8559-ca1e8c993bf3"
      },
      "source": [
        "if 'm' in 'Ala ma kota':\n",
        "    print('W zdaniu Ala ma kota występuje literka m')"
      ],
      "execution_count": 38,
      "outputs": [
        {
          "output_type": "stream",
          "text": [
            "W zdaniu Ala ma kota występuje literka m\n"
          ],
          "name": "stdout"
        }
      ]
    }
  ]
}
