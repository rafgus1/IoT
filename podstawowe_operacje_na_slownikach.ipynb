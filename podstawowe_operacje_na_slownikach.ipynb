{
  "nbformat": 4,
  "nbformat_minor": 0,
  "metadata": {
    "colab": {
      "name": "podstawowe_operacje_na_slownikach.ipynb",
      "provenance": [],
      "collapsed_sections": [],
      "toc_visible": true,
      "include_colab_link": true
    },
    "kernelspec": {
      "name": "python3",
      "display_name": "Python 3"
    }
  },
  "cells": [
    {
      "cell_type": "markdown",
      "metadata": {
        "id": "view-in-github",
        "colab_type": "text"
      },
      "source": [
        "<a href=\"https://colab.research.google.com/github/rafgus1/IoT/blob/ZSE/podstawowe_operacje_na_slownikach.ipynb\" target=\"_parent\"><img src=\"https://colab.research.google.com/assets/colab-badge.svg\" alt=\"Open In Colab\"/></a>"
      ]
    },
    {
      "cell_type": "markdown",
      "metadata": {
        "id": "0pzzKGR3OwjW",
        "colab_type": "text"
      },
      "source": [
        "# Podstawowe operacje na słownikach\n",
        "Pojęcie słownika w programowaniu oznacza listę par elementów, z których pierwszy element jest kluczem/etykietą, natomiast drugi jest wartością związaną z tą etykietą."
      ]
    },
    {
      "cell_type": "markdown",
      "metadata": {
        "id": "bMXu3aHoVbGl",
        "colab_type": "text"
      },
      "source": [
        "# Budowanie słownika"
      ]
    },
    {
      "cell_type": "code",
      "metadata": {
        "id": "R72l7CnmOruv",
        "colab_type": "code",
        "colab": {
          "base_uri": "https://localhost:8080/",
          "height": 35
        },
        "outputId": "06005a56-33c8-4b84-bfc9-1e8af4b6d98e"
      },
      "source": [
        "zwierzeta = { \"koń\": \"ssak\", \n",
        "              \"pies\": \"ssak\", \n",
        "              \"dudek\": \"ptak\", \n",
        "              \"orzeł\": \"ptak\", \n",
        "              \"karp\": \"ryba\",\n",
        "              \"łosoś\": \"ryba\" }\n",
        "print(zwierzeta)"
      ],
      "execution_count": 49,
      "outputs": [
        {
          "output_type": "stream",
          "text": [
            "{'koń': 'ssak', 'pies': 'ssak', 'dudek': 'ptak', 'orzeł': 'ptak', 'karp': 'ryba', 'łosoś': 'ryba'}\n"
          ],
          "name": "stdout"
        }
      ]
    },
    {
      "cell_type": "markdown",
      "metadata": {
        "id": "dcpk2EhRVpUe",
        "colab_type": "text"
      },
      "source": [
        "# Pobieranie wartości ze słowniaka"
      ]
    },
    {
      "cell_type": "code",
      "metadata": {
        "id": "oy1ETqjtVs5k",
        "colab_type": "code",
        "colab": {
          "base_uri": "https://localhost:8080/",
          "height": 72
        },
        "outputId": "fac74b20-ec8e-428a-aa62-51308961a336"
      },
      "source": [
        "print(zwierzeta[\"karp\"])\n",
        "print(zwierzeta.get(\"karp\"))\n",
        "print(zwierzeta.get(\"ryba\"))"
      ],
      "execution_count": 38,
      "outputs": [
        {
          "output_type": "stream",
          "text": [
            "ryba\n",
            "ryba\n",
            "None\n"
          ],
          "name": "stdout"
        }
      ]
    },
    {
      "cell_type": "markdown",
      "metadata": {
        "id": "2VEsEKl8WAQC",
        "colab_type": "text"
      },
      "source": [
        "# Przeglądanie zawartości słownika"
      ]
    },
    {
      "cell_type": "code",
      "metadata": {
        "id": "Q8-QCJkkWDff",
        "colab_type": "code",
        "colab": {
          "base_uri": "https://localhost:8080/",
          "height": 508
        },
        "outputId": "50866316-4e72-4513-ad0f-58450d0e5cda"
      },
      "source": [
        "print(\"Metoda 1 - etykieta + wartość\")\n",
        "\n",
        "for zwierze in zwierzeta:\n",
        "  print(zwierze, \"to\", zwierzeta[zwierze])\n",
        "\n",
        "print(\"\\n\")\n",
        "\n",
        "\n",
        "print(\"Metoda 2 - etykieta + wartość\")\n",
        "\n",
        "for zwierze, gromada in zwierzeta.items():\n",
        "  print(zwierze, \"to\", gromada)\n",
        "\n",
        "print(\"\\n\")\n",
        "\n",
        "\n",
        "print(\"Metoda 3 - tylko wartość\")\n",
        "\n",
        "for gromada in zwierzeta.values():\n",
        "  print(gromada)\n",
        "\n",
        "print(\"\\n\")  \n"
      ],
      "execution_count": 39,
      "outputs": [
        {
          "output_type": "stream",
          "text": [
            "Metoda 1 - etykieta + wartość\n",
            "koń to ssak\n",
            "pies to ssak\n",
            "dudek to ptak\n",
            "orzeł to ptak\n",
            "karp to ryba\n",
            "łosoś to ryba\n",
            "\n",
            "\n",
            "Metoda 2 - etykieta + wartość\n",
            "koń to ssak\n",
            "pies to ssak\n",
            "dudek to ptak\n",
            "orzeł to ptak\n",
            "karp to ryba\n",
            "łosoś to ryba\n",
            "\n",
            "\n",
            "Metoda 3 - tylko wartość\n",
            "ssak\n",
            "ssak\n",
            "ptak\n",
            "ptak\n",
            "ryba\n",
            "ryba\n",
            "\n",
            "\n"
          ],
          "name": "stdout"
        }
      ]
    },
    {
      "cell_type": "markdown",
      "metadata": {
        "id": "zuANrMf8WzoN",
        "colab_type": "text"
      },
      "source": [
        "# Dodawanie pary etykieta/wartość"
      ]
    },
    {
      "cell_type": "code",
      "metadata": {
        "id": "J2Ff5DuQWyTg",
        "colab_type": "code",
        "colab": {
          "base_uri": "https://localhost:8080/",
          "height": 35
        },
        "outputId": "b3749b3c-f8ec-45e3-b79b-92e778a8cb01"
      },
      "source": [
        "zwierzeta[\"okoń\"] = \"ryba\"\n",
        "zwierzeta[\"słoń\"] = \"ssak\"\n",
        "zwierzeta[\"żaba\"] = \"płaz\"\n",
        "zwierzeta[\"mucha\"] = \"ryba\"\n",
        "print(zwierzeta[\"mucha\"])"
      ],
      "execution_count": 57,
      "outputs": [
        {
          "output_type": "stream",
          "text": [
            "ryba\n"
          ],
          "name": "stdout"
        }
      ]
    },
    {
      "cell_type": "markdown",
      "metadata": {
        "id": "QUDkitQxXOdL",
        "colab_type": "text"
      },
      "source": [
        "# Zmiana wartości dla danego klucza"
      ]
    },
    {
      "cell_type": "code",
      "metadata": {
        "id": "_HgKVoZyXSA0",
        "colab_type": "code",
        "colab": {
          "base_uri": "https://localhost:8080/",
          "height": 35
        },
        "outputId": "1625f80b-ca43-416f-ce71-090d9e2e7acc"
      },
      "source": [
        "zwierzeta[\"mucha\"] = \"owad\"\n",
        "print(zwierzeta[\"mucha\"])"
      ],
      "execution_count": 51,
      "outputs": [
        {
          "output_type": "stream",
          "text": [
            "owad\n"
          ],
          "name": "stdout"
        }
      ]
    },
    {
      "cell_type": "markdown",
      "metadata": {
        "id": "4HaE43nWX_Bl",
        "colab_type": "text"
      },
      "source": [
        "# Usuwanie elementów ze słownika"
      ]
    },
    {
      "cell_type": "code",
      "metadata": {
        "id": "d2tNFPmxX98J",
        "colab_type": "code",
        "colab": {
          "base_uri": "https://localhost:8080/",
          "height": 689
        },
        "outputId": "0101ce67-f55d-44e1-bc4e-4ebf2a834659"
      },
      "source": [
        "for zwierze, gromada in zwierzeta.items():\n",
        "  print(zwierze, \"to\", gromada)\n",
        "print(\"\\n\")\n",
        "\n",
        "\n",
        "print(\"Usunięcie ostatio dodanego elementu\")\n",
        "zwierzeta.popitem()\n",
        "\n",
        "for zwierze, gromada in zwierzeta.items():\n",
        "  print(zwierze, \"to\", gromada)\n",
        "print(\"\\n\")\n",
        "\n",
        "\n",
        "print(\"Usunięcie wybranego elementu\")\n",
        "zwierzeta.pop(\"pies\")\n",
        "del zwierzeta[\"karp\"]\n",
        "\n",
        "for zwierze, gromada in zwierzeta.items():\n",
        "  print(zwierze, \"to\", gromada)\n",
        "print(\"\\n\")\n",
        "\n",
        "\n",
        "print(\"Usunięcie wszystkich elementów\")\n",
        "zwierzeta.clear()\n",
        "\n",
        "for zwierze, gromada in zwierzeta.items():\n",
        "  print(zwierze, \"to\", gromada)\n",
        "print(\"\\n\")"
      ],
      "execution_count": 48,
      "outputs": [
        {
          "output_type": "stream",
          "text": [
            "koń to ssak\n",
            "pies to ssak\n",
            "dudek to ptak\n",
            "orzeł to ptak\n",
            "karp to ryba\n",
            "łosoś to ryba\n",
            "okoń to ryba\n",
            "słoń to ssak\n",
            "żaba to płaz\n",
            "mucha to ryba\n",
            "\n",
            "\n",
            "Usunięcie ostatio dodanego elementu\n",
            "koń to ssak\n",
            "pies to ssak\n",
            "dudek to ptak\n",
            "orzeł to ptak\n",
            "karp to ryba\n",
            "łosoś to ryba\n",
            "okoń to ryba\n",
            "słoń to ssak\n",
            "żaba to płaz\n",
            "\n",
            "\n",
            "Usunięcie wybranego elementu\n",
            "koń to ssak\n",
            "dudek to ptak\n",
            "orzeł to ptak\n",
            "łosoś to ryba\n",
            "okoń to ryba\n",
            "słoń to ssak\n",
            "żaba to płaz\n",
            "\n",
            "\n",
            "Usunięcie wszystkich elementów\n",
            "\n",
            "\n"
          ],
          "name": "stdout"
        }
      ]
    },
    {
      "cell_type": "markdown",
      "metadata": {
        "id": "OprzaN3Pa2m4",
        "colab_type": "text"
      },
      "source": [
        "# Sprawdzanie czy klucz/etykieta istnieje w słowniku"
      ]
    },
    {
      "cell_type": "code",
      "metadata": {
        "id": "3ItHxylMa7OB",
        "colab_type": "code",
        "colab": {
          "base_uri": "https://localhost:8080/",
          "height": 53
        },
        "outputId": "86ef6414-ed96-4f8a-e430-bb758bd4338b"
      },
      "source": [
        "zwierze = \"koń\"\n",
        "if zwierze in zwierzeta:\n",
        "  print(zwierze, \"znajduje się w słowniku\")\n",
        "else:\n",
        "  print(zwierze, \"nie znajduje się w słowniku\")\n",
        "\n",
        "zwierze = \"paw\"\n",
        "if zwierze in zwierzeta:\n",
        "  print(zwierze, \"znajduje się w słowniku\")\n",
        "else:\n",
        "  print(zwierze, \"nie znajduje się w słowniku\")"
      ],
      "execution_count": 61,
      "outputs": [
        {
          "output_type": "stream",
          "text": [
            "koń znajduje się w słowniku\n",
            "paw nie znajduje się w słowniku\n"
          ],
          "name": "stdout"
        }
      ]
    }
  ]
}
