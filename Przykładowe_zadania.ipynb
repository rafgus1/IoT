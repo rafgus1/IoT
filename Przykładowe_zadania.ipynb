{
  "nbformat": 4,
  "nbformat_minor": 0,
  "metadata": {
    "colab": {
      "name": "Przykładowe zadania.ipynb",
      "provenance": [],
      "collapsed_sections": [],
      "include_colab_link": true
    },
    "kernelspec": {
      "name": "python3",
      "display_name": "Python 3.7"
    }
  },
  "cells": [
    {
      "cell_type": "markdown",
      "metadata": {
        "id": "view-in-github",
        "colab_type": "text"
      },
      "source": [
        "<a href=\"https://colab.research.google.com/github/rafgus1/IoT/blob/ZSE/Przyk%C5%82adowe_zadania.ipynb\" target=\"_parent\"><img src=\"https://colab.research.google.com/assets/colab-badge.svg\" alt=\"Open In Colab\"/></a>"
      ]
    },
    {
      "cell_type": "markdown",
      "metadata": {
        "id": "meIRHrO0IG8L",
        "colab_type": "text"
      },
      "source": [
        ""
      ]
    },
    {
      "cell_type": "markdown",
      "metadata": {
        "id": "lBj-bG_dII8S",
        "colab_type": "text"
      },
      "source": [
        "**Zadanie 1**"
      ]
    },
    {
      "cell_type": "code",
      "metadata": {
        "id": "M6wLPaX8In9U",
        "colab_type": "code",
        "outputId": "29a77f1a-5c2a-4c5e-92ff-f38b5d29b963",
        "colab": {
          "base_uri": "https://localhost:8080/",
          "height": 70
        }
      },
      "source": [
        "print('>')\n",
        "tekst = input()\n",
        "print('Podany przez Ciebie tekst to \"', tekst, '\"')"
      ],
      "execution_count": 0,
      "outputs": [
        {
          "output_type": "stream",
          "text": [
            ">\n",
            "tekst\n",
            "Podany przez Ciebie tekst to \" tekst \"\n"
          ],
          "name": "stdout"
        }
      ]
    },
    {
      "cell_type": "markdown",
      "metadata": {
        "id": "jgW-4x86IxmZ",
        "colab_type": "text"
      },
      "source": [
        "**Zadanie 2**"
      ]
    },
    {
      "cell_type": "code",
      "metadata": {
        "id": "GddMgn2XIz2s",
        "colab_type": "code",
        "outputId": "c1842e61-ef14-416d-b932-75318d20a9e0",
        "colab": {
          "base_uri": "https://localhost:8080/",
          "height": 105
        }
      },
      "source": [
        "print('Podaj x')\n",
        "x = int(input())\n",
        "print('Podaj y')\n",
        "y = int(input())\n",
        "print('Suma podanych liczb to ', x+y)"
      ],
      "execution_count": 0,
      "outputs": [
        {
          "output_type": "stream",
          "text": [
            "Podaj x\n",
            "10\n",
            "Podaj y\n",
            "20\n",
            "Suma podanych liczb to  30\n"
          ],
          "name": "stdout"
        }
      ]
    },
    {
      "cell_type": "markdown",
      "metadata": {
        "id": "8IXc2dxNJAex",
        "colab_type": "text"
      },
      "source": [
        "**Zadanie 3**"
      ]
    },
    {
      "cell_type": "code",
      "metadata": {
        "id": "QJC6BCoGJEUL",
        "colab_type": "code",
        "colab": {
          "base_uri": "https://localhost:8080/",
          "height": 193
        },
        "outputId": "dac85eb0-a554-4035-b88b-09519c389b66"
      },
      "source": [
        "## poniższe będzie wczytywało tekst aż do wczytania pojedynczej litery q\n",
        "\n",
        "kolekcja = []\n",
        "print(\"Podawaj kolejne elementy do zapamiętania. Aby zakończyć wprowadź pojedynczą literę 'q'\")\n",
        "while True:\n",
        "    print(\">\")\n",
        "    tekst = input()\n",
        "    if tekst == \"q\":\n",
        "        break;\n",
        "    kolekcja.append(tekst)\n",
        "print(\"Wprowadziłeś kolejno \")\n",
        "for element in kolekcja:\n",
        "    print(element)"
      ],
      "execution_count": 4,
      "outputs": [
        {
          "output_type": "stream",
          "text": [
            "Podawaj kolejne elementy do zapamiętania. Aby zakończyć wprowadź pojedynczą literę 'q'\n",
            ">\n",
            "Kot\n",
            ">\n",
            "Pies\n",
            ">\n",
            "q\n",
            "Wprowadziłeś kolejno \n",
            "Kot\n",
            "Pies\n"
          ],
          "name": "stdout"
        }
      ]
    },
    {
      "cell_type": "markdown",
      "metadata": {
        "id": "WQboDHiLJFjk",
        "colab_type": "text"
      },
      "source": [
        "**Zadanie 4**"
      ]
    },
    {
      "cell_type": "code",
      "metadata": {
        "id": "f-vxQXjKJH2b",
        "colab_type": "code",
        "colab": {
          "base_uri": "https://localhost:8080/",
          "height": 87
        },
        "outputId": "1eda3947-efda-467d-d544-5401c9f92731"
      },
      "source": [
        "print('Wprowadź liczbę, której podzielność przez 3 chcesz sprawdzić\\n>')\n",
        "liczba = int(input())\n",
        "if liczba % 3 == 0:\n",
        "    print('Liczba jest podzielna przez 3')\n",
        "else :\n",
        "    print('Liczba nie jest podzielna przez 3')\n"
      ],
      "execution_count": 5,
      "outputs": [
        {
          "output_type": "stream",
          "text": [
            "Wprowadź liczbę, której podzielność przez 3 chcesz sprawdzić\n",
            ">\n",
            "23\n",
            "Liczba nie jest podzielna przez 3\n"
          ],
          "name": "stdout"
        }
      ]
    },
    {
      "cell_type": "markdown",
      "metadata": {
        "id": "CYz2R4Y3JJsW",
        "colab_type": "text"
      },
      "source": [
        "**Zadanie 5**"
      ]
    },
    {
      "cell_type": "code",
      "metadata": {
        "id": "z9k_zh1OJLtt",
        "colab_type": "code",
        "colab": {
          "base_uri": "https://localhost:8080/",
          "height": 70
        },
        "outputId": "7488d5ad-3af0-42d9-f69c-31f48b630370"
      },
      "source": [
        "print('Podaj jakieś liczbę (sprawdzę czy mam ją na sekretnej liście)')\n",
        "sekretna_lista = ( 3, 4, 17, 18, -2 , 9)\n",
        "liczba = int(input())\n",
        "if liczba in sekretna_lista:\n",
        "    print('Zgadłeś - ta liczba jest na liściee')\n",
        "else:\n",
        "    print('Pudło - nie ma tu takiej liczby')"
      ],
      "execution_count": 6,
      "outputs": [
        {
          "output_type": "stream",
          "text": [
            "Podaj jakieś liczbę (sprawdzę czy mam ją na sekretnej liście)\n",
            "17\n",
            "Zgadłeś - ta liczba jest na liściee\n"
          ],
          "name": "stdout"
        }
      ]
    },
    {
      "cell_type": "markdown",
      "metadata": {
        "id": "lMWbadnNJN5X",
        "colab_type": "text"
      },
      "source": [
        "**Zadanie 6**"
      ]
    },
    {
      "cell_type": "code",
      "metadata": {
        "id": "kGYv2j7bJQ-Z",
        "colab_type": "code",
        "colab": {
          "base_uri": "https://localhost:8080/",
          "height": 70
        },
        "outputId": "6e64d5d0-73dd-4eff-ce3c-fef39baf8ba3"
      },
      "source": [
        "print('Podaj dodatnią liczbę pierwszych kwadratów liczb, które mam wypisać')\n",
        "liczba = int(input())\n",
        "if liczba > 0:\n",
        "    for i in range(1,1+liczba):\n",
        "        print(i*i, end=\", \")\n",
        "else :\n",
        "    print('Podano niepoprawna liczbe')"
      ],
      "execution_count": 7,
      "outputs": [
        {
          "output_type": "stream",
          "text": [
            "Podaj dodatnią liczbę pierwszych kwadratów liczb, które mam wypisać\n",
            "25\n",
            "1, 4, 9, 16, 25, 36, 49, 64, 81, 100, 121, 144, 169, 196, 225, 256, 289, 324, 361, 400, 441, 484, 529, 576, 625, "
          ],
          "name": "stdout"
        }
      ]
    },
    {
      "cell_type": "markdown",
      "metadata": {
        "id": "mFFbzf4EJR7h",
        "colab_type": "text"
      },
      "source": [
        "**Zadanie 7**"
      ]
    },
    {
      "cell_type": "code",
      "metadata": {
        "id": "aYYq4PhzJUxj",
        "colab_type": "code",
        "colab": {
          "base_uri": "https://localhost:8080/",
          "height": 70
        },
        "outputId": "e3245224-c553-4299-ec1c-9de2aed084dc"
      },
      "source": [
        "def print_squares(count):\n",
        "    for i in range(1,1+count):\n",
        "        print(i*i, end=\", \")\n",
        "\n",
        "print('Podaj dodatnią liczbę pierwszych kwadratów liczb, które mam wypisać')\n",
        "liczba = int(input())\n",
        "if liczba > 0:\n",
        "    print_squares(liczba)\n",
        "else :\n",
        "    print('Podaano niepoprawna liczbe')\n"
      ],
      "execution_count": 8,
      "outputs": [
        {
          "output_type": "stream",
          "text": [
            "Podaj dodatnią liczbę pierwszych kwadratów liczb, które mam wypisać\n",
            "9\n",
            "1, 4, 9, 16, 25, 36, 49, 64, 81, "
          ],
          "name": "stdout"
        }
      ]
    },
    {
      "cell_type": "markdown",
      "metadata": {
        "id": "SkmFa7sJJYYe",
        "colab_type": "text"
      },
      "source": [
        "**Zadanie 8**"
      ]
    },
    {
      "cell_type": "code",
      "metadata": {
        "id": "IIRQS_4pJcDu",
        "colab_type": "code",
        "colab": {
          "base_uri": "https://localhost:8080/",
          "height": 140
        },
        "outputId": "fd02b727-8a65-44d6-fc46-39b3dc3f4785"
      },
      "source": [
        "# Z tablicy wybiera się element rozdzielający, po czym tablica jest dzielona \n",
        "# na dwa fragmenty: do początkowego przenoszone są wszystkie elementy nie \n",
        "# większe od rozdzielającego, do końcowego wszystkie większe. Potem sortuje \n",
        "# się osobno początkową i końcową część tablicy. Rekursja kończy się, gdy \n",
        "# kolejny fragment uzyskany z podziału zawiera pojedynczy element, jako że\n",
        "# jednoelementowa tablica nie wymaga sortowania.\n",
        "def partition(arr,low,high): \n",
        "    i = ( low-1 )         # indeks najmniejszego elementu\n",
        "    pivot = arr[high]     # element podziałowy\n",
        "  \n",
        "    for j in range(low , high): \n",
        "  \n",
        "        # jeżeli element jest mniejszy bądź równy elementowi podziałowemu\n",
        "        if   arr[j] <= pivot: \n",
        "          \n",
        "            # zwiększ indeks mniejszego elementu\n",
        "            i = i+1 \n",
        "            arr[i],arr[j] = arr[j],arr[i] \n",
        "  \n",
        "    arr[i+1],arr[high] = arr[high],arr[i+1] \n",
        "    return ( i+1 ) \n",
        "  \n",
        "# Główna funkcja implementująca QuickSort\n",
        "# arr[] --> tablica do sortowania,\n",
        "# low   --> indeks początkowy, \n",
        "# high  --> indeks końcowy\n",
        "def quickSort(arr,low,high): \n",
        "    if low < high: \n",
        "        # wyznaczenie pozycji elementu dzielącego\n",
        "        pi = partition(arr,low,high) \n",
        "  \n",
        "        # oddzielne sortowanie elementów przed i za elementem dzielącym\n",
        "        quickSort(arr, low, pi-1) \n",
        "        quickSort(arr, pi+1, high) \n",
        "\n",
        "# test powyższego kodu\n",
        "arr = [10, 7, 8, 9, 1, 5] \n",
        "n = len(arr) \n",
        "quickSort(arr,0,n-1) \n",
        "print (\"Przestortowana tablica:\") \n",
        "for i in range(n): \n",
        "    print (\"%d\" %arr[i]), \n"
      ],
      "execution_count": 9,
      "outputs": [
        {
          "output_type": "stream",
          "text": [
            "Przestortowana tablica:\n",
            "1\n",
            "5\n",
            "7\n",
            "8\n",
            "9\n",
            "10\n"
          ],
          "name": "stdout"
        }
      ]
    },
    {
      "cell_type": "markdown",
      "metadata": {
        "id": "9YdwKUSJO6vt",
        "colab_type": "text"
      },
      "source": [
        "**Zadanie 9**"
      ]
    },
    {
      "cell_type": "code",
      "metadata": {
        "id": "dDO4wkMsO8tk",
        "colab_type": "code",
        "colab": {
          "base_uri": "https://localhost:8080/",
          "height": 158
        },
        "outputId": "da79f1d8-bcb0-4c43-9ec8-d6a0eed0a6a8"
      },
      "source": [
        "def hanoi(n, A, B, C):\n",
        "    \"\"\"Wieże Hanoi w Pythonie.\"\"\"\n",
        "    if n == 1:\n",
        "        C.append(A.pop())\n",
        "        print(A, B, C)\n",
        "    else:\n",
        "        hanoi(n-1, A, C, B)   \n",
        "        C.append(A.pop())\n",
        "        print(A, B, C)\n",
        "        hanoi(n-1, B, A, C)\n",
        "\n",
        "number = 3   # rozwiązanie dla trzech krążków\n",
        "a = [\"a\"]\n",
        "b = [\"b\"]\n",
        "c = [\"c\"]\n",
        "for i in range(number):\n",
        "    a.append(number-i)\n",
        "print(a, b, c)\n",
        "hanoi(number, a, b, c)"
      ],
      "execution_count": 10,
      "outputs": [
        {
          "output_type": "stream",
          "text": [
            "['a', 3, 2, 1] ['b'] ['c']\n",
            "['a', 3, 2] ['b'] ['c', 1]\n",
            "['a', 3] ['c', 1] ['b', 2]\n",
            "['c'] ['a', 3] ['b', 2, 1]\n",
            "['a'] ['b', 2, 1] ['c', 3]\n",
            "['b', 2] ['c', 3] ['a', 1]\n",
            "['b'] ['a', 1] ['c', 3, 2]\n",
            "['a'] ['b'] ['c', 3, 2, 1]\n"
          ],
          "name": "stdout"
        }
      ]
    }
  ]
}
