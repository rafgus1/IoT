{
  "nbformat": 4,
  "nbformat_minor": 0,
  "metadata": {
    "colab": {
      "name": "Zycie.ipynb",
      "provenance": [],
      "collapsed_sections": [],
      "include_colab_link": true
    },
    "kernelspec": {
      "name": "python3",
      "display_name": "Python 3"
    }
  },
  "cells": [
    {
      "cell_type": "markdown",
      "metadata": {
        "id": "view-in-github",
        "colab_type": "text"
      },
      "source": [
        "<a href=\"https://colab.research.google.com/github/rroszczyk/Python/blob/master/Zycie.ipynb\" target=\"_parent\"><img src=\"https://colab.research.google.com/assets/colab-badge.svg\" alt=\"Open In Colab\"/></a>"
      ]
    },
    {
      "cell_type": "markdown",
      "metadata": {
        "id": "tEBGiQBfW-V3",
        "colab_type": "text"
      },
      "source": [
        "# Gra w życie\n",
        "\n",
        "## Opis\n",
        "\n",
        "Gra w życie jest przykładem aparatu komórkowego. Została ona wymyślona przez Johna Hortona Conwaya, brytyjskiego matematyka, w 1970 roku. Odbywa się ona na kwadratowej siatce komórek, gdzie każda komórka może być albo żywa, albo martwa. Ich zachowaniem kierują następujące reguły:\n",
        "\n",
        "* Komórka ożywa, gdy ma dokładnie trzech sąsiadów żywych.\n",
        "* Komórka przeżywa, gdy ma dwóch lub trzech sąsiadów żywych.\n",
        "* Umiera, gdy ma ich mniej niż dwoje — z samotności, lub gdy ma ich więcej niż czworo — z przeludnienia.\n",
        "\n",
        "## Przykład 1\n",
        "W przykładzie reguły zostały zdefiniowane w częsci ustalanie reguł gry - plansza gry umieszczona w liście"
      ]
    },
    {
      "cell_type": "code",
      "metadata": {
        "id": "TwoVrcshUezx",
        "colab_type": "code",
        "colab": {}
      },
      "source": [
        "# losowanie listy\n",
        "from random import random\n",
        "\n",
        "n = 78\n",
        "p = 0.9\n",
        "a = [\"*\" if random() > p else \".\" for _ in range(n)]\n",
        "\n",
        "# ustalanie reguł gry\n",
        "r = {\"***\": \".\",\n",
        "     \"**.\": \".\",\n",
        "     \"*.*\": \".\",\n",
        "     \"*..\": \"*\",\n",
        "     \".**\": \".\",\n",
        "     \".*.\": \".\",\n",
        "     \"..*\": \"*\",\n",
        "     \"...\": \".\"}\n",
        "\n",
        "print(\"\".join(a)),\n",
        "while not input():\n",
        "    # periodyczne warunki brzegowe\n",
        "    a.insert(0, a[-1])\n",
        "    a.append(a[1])\n",
        "    a = [r[\"\".join(a[i - 1:i + 2])] for i in range(1, n + 1)]\n",
        "    print(\"\".join(a)),"
      ],
      "execution_count": 0,
      "outputs": []
    },
    {
      "cell_type": "markdown",
      "metadata": {
        "id": "FCNAy4ctYA1s",
        "colab_type": "text"
      },
      "source": [
        "## Przykład 2\n",
        "W przykładzie reguły zostały zdefiniowane w częsci ustalanie reguł gry - plansza gry umieszczona w stringu zamiast listy - mniej wywołań join"
      ]
    },
    {
      "cell_type": "code",
      "metadata": {
        "id": "51iyPH8wXrxw",
        "colab_type": "code",
        "colab": {}
      },
      "source": [
        "# losowanie napisu\n",
        "from random import random\n",
        "\n",
        "n = 78\n",
        "p = 0.9\n",
        "s = \"\".join([\"*\" if random() > p else \".\" for _ in range(n)])\n",
        "\n",
        "# ustalanie reguł gry\n",
        "r = {\"***\": \".\",\n",
        "     \"**.\": \".\",\n",
        "     \"*.*\": \".\",\n",
        "     \"*..\": \"*\",\n",
        "     \".**\": \".\",\n",
        "     \".*.\": \".\",\n",
        "     \"..*\": \"*\",\n",
        "     \"...\": \".\"}\n",
        "\n",
        "print(s),\n",
        "while not input():\n",
        "    # periodyczne warunki brzegowe\n",
        "    s = s[-1] + s + s[0]\n",
        "\n",
        "    # odwzorowanie napisu\n",
        "    s = \"\".join([r[s[i - 1:i + 2]] for i in range(1, n + 1)])\n",
        "    print(s),\n"
      ],
      "execution_count": 0,
      "outputs": []
    },
    {
      "cell_type": "markdown",
      "metadata": {
        "id": "Q7pAI9IVYCSH",
        "colab_type": "text"
      },
      "source": [
        "## Przykład 3\n",
        "Wersja z regułami w formie listy - dla języków bez słownika"
      ]
    },
    {
      "cell_type": "code",
      "metadata": {
        "id": "uKEWEGwsXwMj",
        "colab_type": "code",
        "colab": {}
      },
      "source": [
        "# schemat hornera\n",
        "def h(A, x):\n",
        "    s = 0\n",
        "    for a in A:\n",
        "        s = s * x + a\n",
        "    return s\n",
        "\n",
        "# losowanie napisu\n",
        "from random import random\n",
        "\n",
        "n = 78\n",
        "p = 0.9\n",
        "a = [1 if random() > p else 0 for _ in range(n)]\n",
        "\n",
        "# ustalanie reguł gry w formie listy\n",
        "r = [0, 1, 0, 0, 1, 0, 0, 0]\n",
        "\n",
        "print(\"\".join([\"*\" if x else \".\" for x in a])),\n",
        "while not input():\n",
        "    # periodyczne warunki brzegowe\n",
        "    a.insert(0, a[-1])\n",
        "    a.append(a[1])\n",
        "\n",
        "    # odwzorowanie listy\n",
        "    a = [r[h(a[i - 1:i + 2], 2)] for i in range(1, n + 1)]\n",
        "    print(\"\".join([\"*\" if x else \".\" for x in a])),"
      ],
      "execution_count": 0,
      "outputs": []
    }
  ]
}
